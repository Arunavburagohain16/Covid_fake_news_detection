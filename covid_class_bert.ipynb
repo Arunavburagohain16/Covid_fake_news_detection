{
  "nbformat": 4,
  "nbformat_minor": 0,
  "metadata": {
    "colab": {
      "name": "covid_class_bert.ipynb",
      "provenance": []
    },
    "kernelspec": {
      "name": "python3",
      "display_name": "Python 3"
    },
    "language_info": {
      "name": "python"
    },
    "accelerator": "GPU"
  },
  "cells": [
    {
      "cell_type": "markdown",
      "source": [
        "Installing the dependencies\n",
        "=============================\n"
      ],
      "metadata": {
        "id": "MrHmYpsZP9Yg"
      }
    },
    {
      "cell_type": "code",
      "execution_count": null,
      "metadata": {
        "colab": {
          "base_uri": "https://localhost:8080/"
        },
        "id": "9NDOlaycVtrO",
        "outputId": "84e9442e-c38f-47ea-cea2-c34e602bf8a3"
      },
      "outputs": [
        {
          "output_type": "stream",
          "name": "stdout",
          "text": [
            "Collecting tensorflow_text\n",
            "  Downloading tensorflow_text-2.8.1-cp37-cp37m-manylinux_2_12_x86_64.manylinux2010_x86_64.whl (4.9 MB)\n",
            "\u001b[K     |████████████████████████████████| 4.9 MB 5.5 MB/s \n",
            "\u001b[?25hRequirement already satisfied: tensorflow<2.9,>=2.8.0 in /usr/local/lib/python3.7/dist-packages (from tensorflow_text) (2.8.0)\n",
            "Requirement already satisfied: tensorflow-hub>=0.8.0 in /usr/local/lib/python3.7/dist-packages (from tensorflow_text) (0.12.0)\n",
            "Requirement already satisfied: gast>=0.2.1 in /usr/local/lib/python3.7/dist-packages (from tensorflow<2.9,>=2.8.0->tensorflow_text) (0.5.3)\n",
            "Requirement already satisfied: grpcio<2.0,>=1.24.3 in /usr/local/lib/python3.7/dist-packages (from tensorflow<2.9,>=2.8.0->tensorflow_text) (1.43.0)\n",
            "Requirement already satisfied: absl-py>=0.4.0 in /usr/local/lib/python3.7/dist-packages (from tensorflow<2.9,>=2.8.0->tensorflow_text) (1.0.0)\n",
            "Requirement already satisfied: numpy>=1.20 in /usr/local/lib/python3.7/dist-packages (from tensorflow<2.9,>=2.8.0->tensorflow_text) (1.21.5)\n",
            "Requirement already satisfied: termcolor>=1.1.0 in /usr/local/lib/python3.7/dist-packages (from tensorflow<2.9,>=2.8.0->tensorflow_text) (1.1.0)\n",
            "Requirement already satisfied: flatbuffers>=1.12 in /usr/local/lib/python3.7/dist-packages (from tensorflow<2.9,>=2.8.0->tensorflow_text) (2.0)\n",
            "Requirement already satisfied: wrapt>=1.11.0 in /usr/local/lib/python3.7/dist-packages (from tensorflow<2.9,>=2.8.0->tensorflow_text) (1.13.3)\n",
            "Requirement already satisfied: keras<2.9,>=2.8.0rc0 in /usr/local/lib/python3.7/dist-packages (from tensorflow<2.9,>=2.8.0->tensorflow_text) (2.8.0)\n",
            "Requirement already satisfied: keras-preprocessing>=1.1.1 in /usr/local/lib/python3.7/dist-packages (from tensorflow<2.9,>=2.8.0->tensorflow_text) (1.1.2)\n",
            "Requirement already satisfied: astunparse>=1.6.0 in /usr/local/lib/python3.7/dist-packages (from tensorflow<2.9,>=2.8.0->tensorflow_text) (1.6.3)\n",
            "Requirement already satisfied: protobuf>=3.9.2 in /usr/local/lib/python3.7/dist-packages (from tensorflow<2.9,>=2.8.0->tensorflow_text) (3.17.3)\n",
            "Requirement already satisfied: libclang>=9.0.1 in /usr/local/lib/python3.7/dist-packages (from tensorflow<2.9,>=2.8.0->tensorflow_text) (13.0.0)\n",
            "Requirement already satisfied: typing-extensions>=3.6.6 in /usr/local/lib/python3.7/dist-packages (from tensorflow<2.9,>=2.8.0->tensorflow_text) (3.10.0.2)\n",
            "Requirement already satisfied: setuptools in /usr/local/lib/python3.7/dist-packages (from tensorflow<2.9,>=2.8.0->tensorflow_text) (57.4.0)\n",
            "Collecting tf-estimator-nightly==2.8.0.dev2021122109\n",
            "  Downloading tf_estimator_nightly-2.8.0.dev2021122109-py2.py3-none-any.whl (462 kB)\n",
            "\u001b[K     |████████████████████████████████| 462 kB 36.0 MB/s \n",
            "\u001b[?25hRequirement already satisfied: google-pasta>=0.1.1 in /usr/local/lib/python3.7/dist-packages (from tensorflow<2.9,>=2.8.0->tensorflow_text) (0.2.0)\n",
            "Requirement already satisfied: opt-einsum>=2.3.2 in /usr/local/lib/python3.7/dist-packages (from tensorflow<2.9,>=2.8.0->tensorflow_text) (3.3.0)\n",
            "Requirement already satisfied: six>=1.12.0 in /usr/local/lib/python3.7/dist-packages (from tensorflow<2.9,>=2.8.0->tensorflow_text) (1.15.0)\n",
            "Requirement already satisfied: tensorboard<2.9,>=2.8 in /usr/local/lib/python3.7/dist-packages (from tensorflow<2.9,>=2.8.0->tensorflow_text) (2.8.0)\n",
            "Requirement already satisfied: tensorflow-io-gcs-filesystem>=0.23.1 in /usr/local/lib/python3.7/dist-packages (from tensorflow<2.9,>=2.8.0->tensorflow_text) (0.24.0)\n",
            "Requirement already satisfied: h5py>=2.9.0 in /usr/local/lib/python3.7/dist-packages (from tensorflow<2.9,>=2.8.0->tensorflow_text) (3.1.0)\n",
            "Requirement already satisfied: wheel<1.0,>=0.23.0 in /usr/local/lib/python3.7/dist-packages (from astunparse>=1.6.0->tensorflow<2.9,>=2.8.0->tensorflow_text) (0.37.1)\n",
            "Requirement already satisfied: cached-property in /usr/local/lib/python3.7/dist-packages (from h5py>=2.9.0->tensorflow<2.9,>=2.8.0->tensorflow_text) (1.5.2)\n",
            "Requirement already satisfied: google-auth<3,>=1.6.3 in /usr/local/lib/python3.7/dist-packages (from tensorboard<2.9,>=2.8->tensorflow<2.9,>=2.8.0->tensorflow_text) (1.35.0)\n",
            "Requirement already satisfied: tensorboard-plugin-wit>=1.6.0 in /usr/local/lib/python3.7/dist-packages (from tensorboard<2.9,>=2.8->tensorflow<2.9,>=2.8.0->tensorflow_text) (1.8.1)\n",
            "Requirement already satisfied: requests<3,>=2.21.0 in /usr/local/lib/python3.7/dist-packages (from tensorboard<2.9,>=2.8->tensorflow<2.9,>=2.8.0->tensorflow_text) (2.23.0)\n",
            "Requirement already satisfied: werkzeug>=0.11.15 in /usr/local/lib/python3.7/dist-packages (from tensorboard<2.9,>=2.8->tensorflow<2.9,>=2.8.0->tensorflow_text) (1.0.1)\n",
            "Requirement already satisfied: google-auth-oauthlib<0.5,>=0.4.1 in /usr/local/lib/python3.7/dist-packages (from tensorboard<2.9,>=2.8->tensorflow<2.9,>=2.8.0->tensorflow_text) (0.4.6)\n",
            "Requirement already satisfied: markdown>=2.6.8 in /usr/local/lib/python3.7/dist-packages (from tensorboard<2.9,>=2.8->tensorflow<2.9,>=2.8.0->tensorflow_text) (3.3.6)\n",
            "Requirement already satisfied: tensorboard-data-server<0.7.0,>=0.6.0 in /usr/local/lib/python3.7/dist-packages (from tensorboard<2.9,>=2.8->tensorflow<2.9,>=2.8.0->tensorflow_text) (0.6.1)\n",
            "Requirement already satisfied: rsa<5,>=3.1.4 in /usr/local/lib/python3.7/dist-packages (from google-auth<3,>=1.6.3->tensorboard<2.9,>=2.8->tensorflow<2.9,>=2.8.0->tensorflow_text) (4.8)\n",
            "Requirement already satisfied: cachetools<5.0,>=2.0.0 in /usr/local/lib/python3.7/dist-packages (from google-auth<3,>=1.6.3->tensorboard<2.9,>=2.8->tensorflow<2.9,>=2.8.0->tensorflow_text) (4.2.4)\n",
            "Requirement already satisfied: pyasn1-modules>=0.2.1 in /usr/local/lib/python3.7/dist-packages (from google-auth<3,>=1.6.3->tensorboard<2.9,>=2.8->tensorflow<2.9,>=2.8.0->tensorflow_text) (0.2.8)\n",
            "Requirement already satisfied: requests-oauthlib>=0.7.0 in /usr/local/lib/python3.7/dist-packages (from google-auth-oauthlib<0.5,>=0.4.1->tensorboard<2.9,>=2.8->tensorflow<2.9,>=2.8.0->tensorflow_text) (1.3.1)\n",
            "Requirement already satisfied: importlib-metadata>=4.4 in /usr/local/lib/python3.7/dist-packages (from markdown>=2.6.8->tensorboard<2.9,>=2.8->tensorflow<2.9,>=2.8.0->tensorflow_text) (4.11.0)\n",
            "Requirement already satisfied: zipp>=0.5 in /usr/local/lib/python3.7/dist-packages (from importlib-metadata>=4.4->markdown>=2.6.8->tensorboard<2.9,>=2.8->tensorflow<2.9,>=2.8.0->tensorflow_text) (3.7.0)\n",
            "Requirement already satisfied: pyasn1<0.5.0,>=0.4.6 in /usr/local/lib/python3.7/dist-packages (from pyasn1-modules>=0.2.1->google-auth<3,>=1.6.3->tensorboard<2.9,>=2.8->tensorflow<2.9,>=2.8.0->tensorflow_text) (0.4.8)\n",
            "Requirement already satisfied: urllib3!=1.25.0,!=1.25.1,<1.26,>=1.21.1 in /usr/local/lib/python3.7/dist-packages (from requests<3,>=2.21.0->tensorboard<2.9,>=2.8->tensorflow<2.9,>=2.8.0->tensorflow_text) (1.24.3)\n",
            "Requirement already satisfied: certifi>=2017.4.17 in /usr/local/lib/python3.7/dist-packages (from requests<3,>=2.21.0->tensorboard<2.9,>=2.8->tensorflow<2.9,>=2.8.0->tensorflow_text) (2021.10.8)\n",
            "Requirement already satisfied: chardet<4,>=3.0.2 in /usr/local/lib/python3.7/dist-packages (from requests<3,>=2.21.0->tensorboard<2.9,>=2.8->tensorflow<2.9,>=2.8.0->tensorflow_text) (3.0.4)\n",
            "Requirement already satisfied: idna<3,>=2.5 in /usr/local/lib/python3.7/dist-packages (from requests<3,>=2.21.0->tensorboard<2.9,>=2.8->tensorflow<2.9,>=2.8.0->tensorflow_text) (2.10)\n",
            "Requirement already satisfied: oauthlib>=3.0.0 in /usr/local/lib/python3.7/dist-packages (from requests-oauthlib>=0.7.0->google-auth-oauthlib<0.5,>=0.4.1->tensorboard<2.9,>=2.8->tensorflow<2.9,>=2.8.0->tensorflow_text) (3.2.0)\n",
            "Installing collected packages: tf-estimator-nightly, tensorflow-text\n",
            "Successfully installed tensorflow-text-2.8.1 tf-estimator-nightly-2.8.0.dev2021122109\n"
          ]
        }
      ],
      "source": [
        "pip install tensorflow_text"
      ]
    },
    {
      "cell_type": "markdown",
      "source": [
        "Import the tensorflow hub and text module to process the texts."
      ],
      "metadata": {
        "id": "c339eRwLQFJo"
      }
    },
    {
      "cell_type": "code",
      "source": [
        "import tensorflow_hub as hub\n",
        "import tensorflow_text as text"
      ],
      "metadata": {
        "id": "8NLrppb0eV_R"
      },
      "execution_count": null,
      "outputs": []
    },
    {
      "cell_type": "markdown",
      "source": [
        "Load the preporcessing and encoder url in the snippet"
      ],
      "metadata": {
        "id": "sMSxXeMbQM9A"
      }
    },
    {
      "cell_type": "code",
      "source": [
        "preprocess_url = \"https://tfhub.dev/tensorflow/bert_en_uncased_preprocess/3\"\n",
        "encoder_url = \"https://tfhub.dev/tensorflow/bert_en_uncased_L-12_H-768_A-12/4\""
      ],
      "metadata": {
        "id": "gpn7yaxeeqLw"
      },
      "execution_count": null,
      "outputs": []
    },
    {
      "cell_type": "code",
      "source": [
        "bert_preprocess_model = hub.KerasLayer(preprocess_url)"
      ],
      "metadata": {
        "id": "oBUwLNYhez9o"
      },
      "execution_count": null,
      "outputs": []
    },
    {
      "cell_type": "markdown",
      "source": [
        "Check for the BERT module if it is working fine and generating the feature vectors"
      ],
      "metadata": {
        "id": "-SXhIjScQYtR"
      }
    },
    {
      "cell_type": "code",
      "source": [
        "text_test = ['nice movie indeed','I love python programming']\n",
        "text_preprocessed = bert_preprocess_model(text_test)\n",
        "text_preprocessed.keys()"
      ],
      "metadata": {
        "colab": {
          "base_uri": "https://localhost:8080/"
        },
        "id": "3KDkFZjigPXP",
        "outputId": "df209169-1f51-403e-d69d-4a8bb8b8c48a"
      },
      "execution_count": null,
      "outputs": [
        {
          "output_type": "execute_result",
          "data": {
            "text/plain": [
              "dict_keys(['input_word_ids', 'input_type_ids', 'input_mask'])"
            ]
          },
          "metadata": {},
          "execution_count": 5
        }
      ]
    },
    {
      "cell_type": "code",
      "source": [
        "text_preprocessed['input_mask']"
      ],
      "metadata": {
        "colab": {
          "base_uri": "https://localhost:8080/"
        },
        "id": "q7xJd8JOgT6X",
        "outputId": "2eecedf9-1e9c-48b6-a461-8cdba1e13695"
      },
      "execution_count": null,
      "outputs": [
        {
          "output_type": "execute_result",
          "data": {
            "text/plain": [
              "<tf.Tensor: shape=(2, 128), dtype=int32, numpy=\n",
              "array([[1, 1, 1, 1, 1, 0, 0, 0, 0, 0, 0, 0, 0, 0, 0, 0, 0, 0, 0, 0, 0, 0,\n",
              "        0, 0, 0, 0, 0, 0, 0, 0, 0, 0, 0, 0, 0, 0, 0, 0, 0, 0, 0, 0, 0, 0,\n",
              "        0, 0, 0, 0, 0, 0, 0, 0, 0, 0, 0, 0, 0, 0, 0, 0, 0, 0, 0, 0, 0, 0,\n",
              "        0, 0, 0, 0, 0, 0, 0, 0, 0, 0, 0, 0, 0, 0, 0, 0, 0, 0, 0, 0, 0, 0,\n",
              "        0, 0, 0, 0, 0, 0, 0, 0, 0, 0, 0, 0, 0, 0, 0, 0, 0, 0, 0, 0, 0, 0,\n",
              "        0, 0, 0, 0, 0, 0, 0, 0, 0, 0, 0, 0, 0, 0, 0, 0, 0, 0],\n",
              "       [1, 1, 1, 1, 1, 1, 0, 0, 0, 0, 0, 0, 0, 0, 0, 0, 0, 0, 0, 0, 0, 0,\n",
              "        0, 0, 0, 0, 0, 0, 0, 0, 0, 0, 0, 0, 0, 0, 0, 0, 0, 0, 0, 0, 0, 0,\n",
              "        0, 0, 0, 0, 0, 0, 0, 0, 0, 0, 0, 0, 0, 0, 0, 0, 0, 0, 0, 0, 0, 0,\n",
              "        0, 0, 0, 0, 0, 0, 0, 0, 0, 0, 0, 0, 0, 0, 0, 0, 0, 0, 0, 0, 0, 0,\n",
              "        0, 0, 0, 0, 0, 0, 0, 0, 0, 0, 0, 0, 0, 0, 0, 0, 0, 0, 0, 0, 0, 0,\n",
              "        0, 0, 0, 0, 0, 0, 0, 0, 0, 0, 0, 0, 0, 0, 0, 0, 0, 0]],\n",
              "      dtype=int32)>"
            ]
          },
          "metadata": {},
          "execution_count": 6
        }
      ]
    },
    {
      "cell_type": "code",
      "source": [
        "text_preprocessed['input_type_ids']"
      ],
      "metadata": {
        "colab": {
          "base_uri": "https://localhost:8080/"
        },
        "id": "6GkEb381gbWW",
        "outputId": "ac7a1d3a-3ec4-4c74-b0a2-56e5986d8642"
      },
      "execution_count": null,
      "outputs": [
        {
          "output_type": "execute_result",
          "data": {
            "text/plain": [
              "<tf.Tensor: shape=(2, 128), dtype=int32, numpy=\n",
              "array([[0, 0, 0, 0, 0, 0, 0, 0, 0, 0, 0, 0, 0, 0, 0, 0, 0, 0, 0, 0, 0, 0,\n",
              "        0, 0, 0, 0, 0, 0, 0, 0, 0, 0, 0, 0, 0, 0, 0, 0, 0, 0, 0, 0, 0, 0,\n",
              "        0, 0, 0, 0, 0, 0, 0, 0, 0, 0, 0, 0, 0, 0, 0, 0, 0, 0, 0, 0, 0, 0,\n",
              "        0, 0, 0, 0, 0, 0, 0, 0, 0, 0, 0, 0, 0, 0, 0, 0, 0, 0, 0, 0, 0, 0,\n",
              "        0, 0, 0, 0, 0, 0, 0, 0, 0, 0, 0, 0, 0, 0, 0, 0, 0, 0, 0, 0, 0, 0,\n",
              "        0, 0, 0, 0, 0, 0, 0, 0, 0, 0, 0, 0, 0, 0, 0, 0, 0, 0],\n",
              "       [0, 0, 0, 0, 0, 0, 0, 0, 0, 0, 0, 0, 0, 0, 0, 0, 0, 0, 0, 0, 0, 0,\n",
              "        0, 0, 0, 0, 0, 0, 0, 0, 0, 0, 0, 0, 0, 0, 0, 0, 0, 0, 0, 0, 0, 0,\n",
              "        0, 0, 0, 0, 0, 0, 0, 0, 0, 0, 0, 0, 0, 0, 0, 0, 0, 0, 0, 0, 0, 0,\n",
              "        0, 0, 0, 0, 0, 0, 0, 0, 0, 0, 0, 0, 0, 0, 0, 0, 0, 0, 0, 0, 0, 0,\n",
              "        0, 0, 0, 0, 0, 0, 0, 0, 0, 0, 0, 0, 0, 0, 0, 0, 0, 0, 0, 0, 0, 0,\n",
              "        0, 0, 0, 0, 0, 0, 0, 0, 0, 0, 0, 0, 0, 0, 0, 0, 0, 0]],\n",
              "      dtype=int32)>"
            ]
          },
          "metadata": {},
          "execution_count": 7
        }
      ]
    },
    {
      "cell_type": "code",
      "source": [
        "text_preprocessed['input_word_ids']"
      ],
      "metadata": {
        "colab": {
          "base_uri": "https://localhost:8080/"
        },
        "id": "EKSjhqyhgcY-",
        "outputId": "002c949b-34d5-40e2-dc43-452d4a7a3973"
      },
      "execution_count": null,
      "outputs": [
        {
          "output_type": "execute_result",
          "data": {
            "text/plain": [
              "<tf.Tensor: shape=(2, 128), dtype=int32, numpy=\n",
              "array([[  101,  3835,  3185,  5262,   102,     0,     0,     0,     0,\n",
              "            0,     0,     0,     0,     0,     0,     0,     0,     0,\n",
              "            0,     0,     0,     0,     0,     0,     0,     0,     0,\n",
              "            0,     0,     0,     0,     0,     0,     0,     0,     0,\n",
              "            0,     0,     0,     0,     0,     0,     0,     0,     0,\n",
              "            0,     0,     0,     0,     0,     0,     0,     0,     0,\n",
              "            0,     0,     0,     0,     0,     0,     0,     0,     0,\n",
              "            0,     0,     0,     0,     0,     0,     0,     0,     0,\n",
              "            0,     0,     0,     0,     0,     0,     0,     0,     0,\n",
              "            0,     0,     0,     0,     0,     0,     0,     0,     0,\n",
              "            0,     0,     0,     0,     0,     0,     0,     0,     0,\n",
              "            0,     0,     0,     0,     0,     0,     0,     0,     0,\n",
              "            0,     0,     0,     0,     0,     0,     0,     0,     0,\n",
              "            0,     0,     0,     0,     0,     0,     0,     0,     0,\n",
              "            0,     0],\n",
              "       [  101,  1045,  2293, 18750,  4730,   102,     0,     0,     0,\n",
              "            0,     0,     0,     0,     0,     0,     0,     0,     0,\n",
              "            0,     0,     0,     0,     0,     0,     0,     0,     0,\n",
              "            0,     0,     0,     0,     0,     0,     0,     0,     0,\n",
              "            0,     0,     0,     0,     0,     0,     0,     0,     0,\n",
              "            0,     0,     0,     0,     0,     0,     0,     0,     0,\n",
              "            0,     0,     0,     0,     0,     0,     0,     0,     0,\n",
              "            0,     0,     0,     0,     0,     0,     0,     0,     0,\n",
              "            0,     0,     0,     0,     0,     0,     0,     0,     0,\n",
              "            0,     0,     0,     0,     0,     0,     0,     0,     0,\n",
              "            0,     0,     0,     0,     0,     0,     0,     0,     0,\n",
              "            0,     0,     0,     0,     0,     0,     0,     0,     0,\n",
              "            0,     0,     0,     0,     0,     0,     0,     0,     0,\n",
              "            0,     0,     0,     0,     0,     0,     0,     0,     0,\n",
              "            0,     0]], dtype=int32)>"
            ]
          },
          "metadata": {},
          "execution_count": 8
        }
      ]
    },
    {
      "cell_type": "code",
      "source": [
        "bert_model = hub.KerasLayer(encoder_url)"
      ],
      "metadata": {
        "id": "l0C-lWa5gelf"
      },
      "execution_count": null,
      "outputs": []
    },
    {
      "cell_type": "code",
      "source": [
        "bert_results = bert_model(text_preprocessed)"
      ],
      "metadata": {
        "id": "U2sUONM4gmSs"
      },
      "execution_count": null,
      "outputs": []
    },
    {
      "cell_type": "code",
      "source": [
        "bert_results.keys()"
      ],
      "metadata": {
        "colab": {
          "base_uri": "https://localhost:8080/"
        },
        "id": "VRBZxQY4gpL3",
        "outputId": "bcd47d81-aa3b-4d4c-99c4-3dcf59cceb5b"
      },
      "execution_count": null,
      "outputs": [
        {
          "output_type": "execute_result",
          "data": {
            "text/plain": [
              "dict_keys(['pooled_output', 'default', 'sequence_output', 'encoder_outputs'])"
            ]
          },
          "metadata": {},
          "execution_count": 11
        }
      ]
    },
    {
      "cell_type": "code",
      "source": [
        "bert_results['sequence_output']"
      ],
      "metadata": {
        "colab": {
          "base_uri": "https://localhost:8080/"
        },
        "id": "_f3FVLa2greY",
        "outputId": "a309e8c9-9c7e-4f01-8536-73c21bd37acf"
      },
      "execution_count": null,
      "outputs": [
        {
          "output_type": "execute_result",
          "data": {
            "text/plain": [
              "<tf.Tensor: shape=(2, 128, 768), dtype=float32, numpy=\n",
              "array([[[ 0.07292038,  0.08567842,  0.14476822, ..., -0.09677143,\n",
              "          0.08722145,  0.07711081],\n",
              "        [ 0.17839344, -0.19006258,  0.5034949 , ..., -0.0586981 ,\n",
              "          0.32717144, -0.15578583],\n",
              "        [ 0.18701449, -0.43388814, -0.48875296, ..., -0.15502766,\n",
              "          0.00145172, -0.2447103 ],\n",
              "        ...,\n",
              "        [ 0.12083013,  0.12884311,  0.4645362 , ...,  0.07375546,\n",
              "          0.17441897,  0.16522236],\n",
              "        [ 0.07967884, -0.01190644,  0.5022541 , ...,  0.13777748,\n",
              "          0.210022  ,  0.00624548],\n",
              "        [-0.07212698, -0.28303394,  0.5903344 , ...,  0.4755187 ,\n",
              "          0.1666846 , -0.08920381]],\n",
              "\n",
              "       [[-0.07900536,  0.36335137, -0.21101594, ..., -0.171837  ,\n",
              "          0.16299717,  0.6724262 ],\n",
              "        [ 0.27883533,  0.43716228, -0.35764885, ..., -0.04463524,\n",
              "          0.38315073,  0.58879745],\n",
              "        [ 1.2037673 ,  1.072702  ,  0.48408717, ...,  0.24921033,\n",
              "          0.4073103 ,  0.4048179 ],\n",
              "        ...,\n",
              "        [ 0.08630094,  0.19353813,  0.47540012, ...,  0.18880174,\n",
              "         -0.06474142,  0.31318557],\n",
              "        [ 0.1588704 ,  0.2857267 ,  0.37340763, ...,  0.09309127,\n",
              "         -0.0496955 ,  0.387611  ],\n",
              "        [-0.08079785, -0.09572835,  0.26809838, ...,  0.13979656,\n",
              "         -0.06315874,  0.272883  ]]], dtype=float32)>"
            ]
          },
          "metadata": {},
          "execution_count": 12
        }
      ]
    },
    {
      "cell_type": "code",
      "source": [
        "bert_results['pooled_output']"
      ],
      "metadata": {
        "colab": {
          "base_uri": "https://localhost:8080/"
        },
        "id": "w2K5lKy2gtvo",
        "outputId": "28672d8d-c7e0-4abd-b3d0-24b8bacc9296"
      },
      "execution_count": null,
      "outputs": [
        {
          "output_type": "execute_result",
          "data": {
            "text/plain": [
              "<tf.Tensor: shape=(2, 768), dtype=float32, numpy=\n",
              "array([[-0.79177463, -0.21411951,  0.49769327, ...,  0.24465072,\n",
              "        -0.47334516,  0.81758744],\n",
              "       [-0.91712326, -0.4793521 , -0.78657013, ..., -0.617518  ,\n",
              "        -0.71026915,  0.92184293]], dtype=float32)>"
            ]
          },
          "metadata": {},
          "execution_count": 13
        }
      ]
    },
    {
      "cell_type": "code",
      "source": [
        "len(bert_results['encoder_outputs'])"
      ],
      "metadata": {
        "colab": {
          "base_uri": "https://localhost:8080/"
        },
        "id": "NZKmNRRZgyVv",
        "outputId": "723147de-027b-4f33-d326-1a1e5b812a1c"
      },
      "execution_count": null,
      "outputs": [
        {
          "output_type": "execute_result",
          "data": {
            "text/plain": [
              "12"
            ]
          },
          "metadata": {},
          "execution_count": 14
        }
      ]
    },
    {
      "cell_type": "code",
      "source": [
        "bert_results['encoder_outputs'][-1] == bert_results['sequence_output']"
      ],
      "metadata": {
        "colab": {
          "base_uri": "https://localhost:8080/"
        },
        "id": "jcbn2uz2gycf",
        "outputId": "d30e5e8e-be9b-4450-e396-37f827dbae32"
      },
      "execution_count": null,
      "outputs": [
        {
          "output_type": "execute_result",
          "data": {
            "text/plain": [
              "<tf.Tensor: shape=(2, 128, 768), dtype=bool, numpy=\n",
              "array([[[ True,  True,  True, ...,  True,  True,  True],\n",
              "        [ True,  True,  True, ...,  True,  True,  True],\n",
              "        [ True,  True,  True, ...,  True,  True,  True],\n",
              "        ...,\n",
              "        [ True,  True,  True, ...,  True,  True,  True],\n",
              "        [ True,  True,  True, ...,  True,  True,  True],\n",
              "        [ True,  True,  True, ...,  True,  True,  True]],\n",
              "\n",
              "       [[ True,  True,  True, ...,  True,  True,  True],\n",
              "        [ True,  True,  True, ...,  True,  True,  True],\n",
              "        [ True,  True,  True, ...,  True,  True,  True],\n",
              "        ...,\n",
              "        [ True,  True,  True, ...,  True,  True,  True],\n",
              "        [ True,  True,  True, ...,  True,  True,  True],\n",
              "        [ True,  True,  True, ...,  True,  True,  True]]])>"
            ]
          },
          "metadata": {},
          "execution_count": 15
        }
      ]
    },
    {
      "cell_type": "code",
      "source": [
        "bert_results['encoder_outputs']"
      ],
      "metadata": {
        "colab": {
          "base_uri": "https://localhost:8080/"
        },
        "id": "LdRtI-vBg56_",
        "outputId": "52680b45-c328-4d27-9592-535858d68f8f"
      },
      "execution_count": null,
      "outputs": [
        {
          "output_type": "execute_result",
          "data": {
            "text/plain": [
              "[<tf.Tensor: shape=(2, 128, 768), dtype=float32, numpy=\n",
              " array([[[ 0.12901425,  0.00644732, -0.03614959, ...,  0.04999626,\n",
              "           0.06149194, -0.02657545],\n",
              "         [ 1.1753378 ,  1.2140784 ,  1.1569978 , ...,  0.11634377,\n",
              "          -0.3585534 , -0.4049019 ],\n",
              "         [ 0.03859021,  0.5386997 , -0.21089756, ...,  0.21858235,\n",
              "           0.7260173 , -1.1158612 ],\n",
              "         ...,\n",
              "         [-0.07587024, -0.25421894,  0.7075514 , ...,  0.505419  ,\n",
              "          -0.1887869 ,  0.15028353],\n",
              "         [-0.1606659 , -0.28089708,  0.5759705 , ...,  0.5275857 ,\n",
              "          -0.11141351,  0.02887536],\n",
              "         [-0.04428169, -0.2027955 ,  0.5909354 , ...,  0.8133834 ,\n",
              "          -0.3907574 , -0.02601734]],\n",
              " \n",
              "        [[ 0.18903583,  0.02752563, -0.06513733, ..., -0.006202  ,\n",
              "           0.15053886,  0.03165463],\n",
              "         [ 0.59161484,  0.7589136 , -0.07240709, ...,  0.6190397 ,\n",
              "           0.8292891 ,  0.16161957],\n",
              "         [ 1.446081  ,  0.4460263 ,  0.40990278, ...,  0.48255885,\n",
              "           0.6269118 ,  0.13463339],\n",
              "         ...,\n",
              "         [ 0.15147895, -0.21573825,  0.70329106, ..., -0.12537268,\n",
              "          -0.13787241,  0.27722076],\n",
              "         [ 0.05143777, -0.24052705,  0.5356912 , ..., -0.07915041,\n",
              "          -0.03307881,  0.17380932],\n",
              "         [ 0.20934743, -0.15645264,  0.6039548 , ...,  0.32903543,\n",
              "          -0.35827157,  0.08100449]]], dtype=float32)>,\n",
              " <tf.Tensor: shape=(2, 128, 768), dtype=float32, numpy=\n",
              " array([[[ 0.01418148, -0.22088279, -0.15028149, ...,  0.11415625,\n",
              "           0.12618083,  0.04843431],\n",
              "         [ 1.2033898 ,  1.3469869 ,  1.7064534 , ...,  0.3061056 ,\n",
              "          -0.5074259 , -0.55147505],\n",
              "         [ 0.42169118,  0.8110244 , -0.25631547, ..., -0.07722446,\n",
              "           0.89372385, -1.4472061 ],\n",
              "         ...,\n",
              "         [-0.19047463, -0.23860845,  0.81412035, ...,  0.9749353 ,\n",
              "          -0.34774125, -0.08733528],\n",
              "         [-0.27150977, -0.31985044,  0.7659381 , ...,  0.9676161 ,\n",
              "          -0.29511896, -0.15731779],\n",
              "         [-0.21302739, -0.19229713,  0.733878  , ...,  1.1040448 ,\n",
              "          -0.45102832, -0.20683065]],\n",
              " \n",
              "        [[ 0.08973328, -0.18419683, -0.16645087, ...,  0.02761344,\n",
              "           0.11187725,  0.08041716],\n",
              "         [ 0.5831132 ,  0.59570265,  0.3601955 , ...,  0.41270047,\n",
              "           0.2680923 ,  0.28400597],\n",
              "         [ 2.116666  ,  0.5176933 ,  0.8637748 , ...,  0.7178724 ,\n",
              "           0.32405114,  0.09739935],\n",
              "         ...,\n",
              "         [ 0.243729  , -0.05775531,  0.68428797, ...,  0.43483603,\n",
              "          -0.57660925, -0.11131094],\n",
              "         [ 0.168039  , -0.03091832,  0.5863848 , ...,  0.49625763,\n",
              "          -0.5056795 , -0.20782225],\n",
              "         [ 0.24831763,  0.00315458,  0.5159256 , ...,  0.805025  ,\n",
              "          -0.69899607, -0.24186406]]], dtype=float32)>,\n",
              " <tf.Tensor: shape=(2, 128, 768), dtype=float32, numpy=\n",
              " array([[[ 0.02275401, -0.2798025 ,  0.02345767, ...,  0.2786702 ,\n",
              "           0.11714831,  0.18175139],\n",
              "         [ 1.2574832 ,  0.8725084 ,  1.6266019 , ...,  0.45210847,\n",
              "          -0.80902505, -0.5448982 ],\n",
              "         [ 0.7521989 ,  0.63573647, -0.20566116, ..., -0.3238181 ,\n",
              "           0.7574956 , -1.458793  ],\n",
              "         ...,\n",
              "         [-0.15107462, -0.21129096,  0.9689458 , ...,  1.1261963 ,\n",
              "          -0.03213999, -0.22340184],\n",
              "         [-0.2812562 , -0.31140092,  0.8432885 , ...,  1.1342661 ,\n",
              "          -0.08336665, -0.25161245],\n",
              "         [-0.24449062, -0.21537906,  0.94809824, ...,  1.2419425 ,\n",
              "          -0.1987347 , -0.337526  ]],\n",
              " \n",
              "        [[ 0.10617056, -0.27990752, -0.01731824, ...,  0.20060425,\n",
              "           0.08148412,  0.21859075],\n",
              "         [ 0.6892585 ,  0.31591448,  0.5558663 , ...,  0.69039494,\n",
              "          -0.07141581,  0.41407207],\n",
              "         [ 2.5758872 ,  0.6252091 ,  1.2503712 , ...,  0.4395771 ,\n",
              "          -0.18525556, -0.05004877],\n",
              "         ...,\n",
              "         [ 0.20464368, -0.01561991,  0.8343146 , ...,  0.80149627,\n",
              "          -0.12853858, -0.35842094],\n",
              "         [-0.02875579,  0.05097765,  0.68159264, ...,  0.9003143 ,\n",
              "          -0.12434834, -0.422564  ],\n",
              "         [ 0.13327721,  0.02257268,  0.77221787, ...,  1.02112   ,\n",
              "          -0.30834654, -0.45623216]]], dtype=float32)>,\n",
              " <tf.Tensor: shape=(2, 128, 768), dtype=float32, numpy=\n",
              " array([[[ 0.11484937, -0.644411  , -0.14245167, ...,  0.25474164,\n",
              "           0.00378416,  0.6110518 ],\n",
              "         [ 1.3035421 ,  0.7706053 ,  1.3185002 , ...,  0.35822457,\n",
              "          -0.6412151 , -0.32795352],\n",
              "         [ 1.1896739 ,  0.6279436 , -0.67501634, ..., -0.2887067 ,\n",
              "           0.477919  , -1.2806    ],\n",
              "         ...,\n",
              "         [-0.22614805, -0.6276298 ,  1.0227481 , ...,  0.8292316 ,\n",
              "          -0.4031468 ,  0.04389334],\n",
              "         [-0.3990142 , -0.7561915 ,  0.74893796, ...,  0.74922633,\n",
              "          -0.45077705, -0.00367966],\n",
              "         [-0.377288  , -0.78310424,  0.9057244 , ...,  0.97362375,\n",
              "          -0.4828575 , -0.07389852]],\n",
              " \n",
              "        [[ 0.15151429, -0.70752287, -0.27520522, ...,  0.44345927,\n",
              "          -0.20920432,  0.4986015 ],\n",
              "         [ 0.8864792 , -0.24838233,  0.73537445, ...,  0.74179375,\n",
              "          -0.13177197,  0.10158528],\n",
              "         [ 2.586579  ,  0.61882836,  0.52798784, ...,  0.8487308 ,\n",
              "          -0.59150237,  0.02349831],\n",
              "         ...,\n",
              "         [-0.05526839, -0.43394697,  1.1783323 , ...,  0.9179174 ,\n",
              "          -0.45718148, -0.25014672],\n",
              "         [-0.2932865 , -0.23091191,  0.9938014 , ...,  1.035379  ,\n",
              "          -0.42435807, -0.3494765 ],\n",
              "         [-0.1589919 , -0.50098217,  0.9814226 , ...,  1.1373087 ,\n",
              "          -0.6188833 , -0.4445779 ]]], dtype=float32)>,\n",
              " <tf.Tensor: shape=(2, 128, 768), dtype=float32, numpy=\n",
              " array([[[-0.22174826, -0.42225322, -0.04923964, ..., -0.26284194,\n",
              "           0.06099954,  0.63794935],\n",
              "         [ 1.1627895 ,  0.67705363,  1.3072392 , ...,  0.2279467 ,\n",
              "          -0.5432943 , -0.27383232],\n",
              "         [ 1.5308232 ,  0.7222545 , -0.43608692, ...,  0.27435794,\n",
              "           0.24980266, -0.98753816],\n",
              "         ...,\n",
              "         [-0.17669755, -0.31260547,  1.0875318 , ...,  0.5924224 ,\n",
              "           0.01275297, -0.2817189 ],\n",
              "         [-0.34473747, -0.42430085,  0.8798024 , ...,  0.54826254,\n",
              "          -0.08151975, -0.34001443],\n",
              "         [-0.48139897, -0.3132427 ,  1.1702346 , ...,  0.87309945,\n",
              "          -0.07970236, -0.45325547]],\n",
              " \n",
              "        [[-0.2160809 , -0.89864206, -0.44991598, ..., -0.0828618 ,\n",
              "          -0.17226869,  0.66199845],\n",
              "         [ 0.6661444 , -0.54916966,  0.46460494, ...,  0.17649361,\n",
              "           0.22822502,  0.34962225],\n",
              "         [ 2.0629604 ,  0.6991985 ,  0.35604417, ...,  0.5295332 ,\n",
              "          -0.34809312,  0.00831309],\n",
              "         ...,\n",
              "         [-0.11593978, -0.17149237,  0.89943886, ...,  0.62990063,\n",
              "          -0.3399028 , -0.20049314],\n",
              "         [-0.13007517, -0.02739064,  0.707998  , ...,  0.80594665,\n",
              "          -0.30724108, -0.19956402],\n",
              "         [-0.26314935, -0.26137075,  0.6338576 , ...,  0.8150184 ,\n",
              "          -0.45400354, -0.35120744]]], dtype=float32)>,\n",
              " <tf.Tensor: shape=(2, 128, 768), dtype=float32, numpy=\n",
              " array([[[-0.03392683, -0.39431527,  0.04223846, ..., -0.07905666,\n",
              "           0.01993925,  0.769207  ],\n",
              "         [ 1.4294347 , -0.08699033,  1.5299493 , ...,  0.22512224,\n",
              "          -1.0060066 , -0.23702168],\n",
              "         [ 1.5031744 ,  0.6725792 , -0.52590245, ...,  0.10907   ,\n",
              "           0.27042478, -1.2567503 ],\n",
              "         ...,\n",
              "         [-0.30033624, -0.02261891,  1.3187411 , ...,  0.69288874,\n",
              "          -0.09798466, -0.17419647],\n",
              "         [-0.43754137, -0.21149233,  1.1094575 , ...,  0.5006614 ,\n",
              "          -0.17692411, -0.18529154],\n",
              "         [-0.65920544, -0.1960787 ,  1.313407  , ...,  0.73200756,\n",
              "          -0.19967389, -0.32469243]],\n",
              " \n",
              "        [[-0.27334625, -0.9526852 , -0.7869666 , ..., -0.12205292,\n",
              "          -0.08783812,  0.7581167 ],\n",
              "         [ 0.46756923, -0.16237596, -0.01155945, ...,  0.18781257,\n",
              "           0.621647  ,  0.03009869],\n",
              "         [ 1.7947384 ,  0.9051076 ,  0.08580819, ...,  0.770935  ,\n",
              "          -0.66827905, -0.06755565],\n",
              "         ...,\n",
              "         [-0.183374  , -0.15806575,  1.1826935 , ...,  0.83047473,\n",
              "          -0.39406458, -0.23047769],\n",
              "         [-0.2227014 ,  0.00975987,  0.9340852 , ...,  1.128667  ,\n",
              "          -0.3488432 , -0.19491515],\n",
              "         [-0.30386168, -0.29683107,  0.8247176 , ...,  1.0090827 ,\n",
              "          -0.4640767 , -0.31465662]]], dtype=float32)>,\n",
              " <tf.Tensor: shape=(2, 128, 768), dtype=float32, numpy=\n",
              " array([[[-0.23803413, -0.6655419 ,  0.29917315, ...,  0.03415106,\n",
              "           0.29362833,  0.96536314],\n",
              "         [ 1.5040746 ,  0.00695028,  1.431414  , ...,  0.24628787,\n",
              "          -0.552195  , -0.3221539 ],\n",
              "         [ 1.362903  ,  0.47741812, -0.61530006, ...,  0.08587036,\n",
              "           0.43922645, -1.5594156 ],\n",
              "         ...,\n",
              "         [-0.16864091,  0.00209662,  1.3201765 , ...,  0.94280505,\n",
              "          -0.04737359,  0.21490599],\n",
              "         [-0.26666397, -0.24881291,  1.2213265 , ...,  0.63527995,\n",
              "          -0.04442494,  0.04466207],\n",
              "         [-0.53366214, -0.35796016,  1.3447878 , ...,  0.6038441 ,\n",
              "          -0.08427206, -0.15712216]],\n",
              " \n",
              "        [[-0.05967448, -0.84482193, -0.8939019 , ..., -0.10863814,\n",
              "           0.40932396,  0.7940859 ],\n",
              "         [ 0.54404944, -0.31963053, -0.45491642, ...,  0.48068696,\n",
              "           0.77862555,  0.22774284],\n",
              "         [ 1.4479859 ,  1.1230608 ,  0.09567894, ...,  1.3554286 ,\n",
              "           0.06143568, -0.00836943],\n",
              "         ...,\n",
              "         [ 0.2565244 , -0.14106567,  1.1854345 , ...,  0.9568362 ,\n",
              "          -0.2160396 , -0.06946445],\n",
              "         [ 0.25819036,  0.07949173,  0.9851656 , ...,  1.0518227 ,\n",
              "          -0.07890863, -0.12841561],\n",
              "         [-0.05268846, -0.33431333,  0.9637354 , ...,  0.896072  ,\n",
              "          -0.10082386, -0.28129652]]], dtype=float32)>,\n",
              " <tf.Tensor: shape=(2, 128, 768), dtype=float32, numpy=\n",
              " array([[[-7.0827395e-02, -2.5689998e-01, -3.5961755e-02, ...,\n",
              "          -3.5881269e-01,  1.3524771e-01,  1.0136120e+00],\n",
              "         [ 9.7471809e-01, -1.9712919e-01,  1.4318084e+00, ...,\n",
              "          -1.4052075e-01, -5.0431244e-02, -2.7141249e-02],\n",
              "         [ 1.1273397e+00,  2.7122766e-01, -2.8623030e-01, ...,\n",
              "           9.3385607e-02,  2.9908359e-01, -1.3764443e+00],\n",
              "         ...,\n",
              "         [-9.5787764e-02,  2.9180863e-01,  1.5879146e+00, ...,\n",
              "           8.5004276e-01, -5.1285334e-02,  2.0340258e-01],\n",
              "         [-2.2268820e-01, -8.3895914e-02,  1.7256007e+00, ...,\n",
              "           6.1222184e-01,  1.0976507e-01,  7.0046134e-02],\n",
              "         [-5.7830131e-01, -3.5915640e-01,  1.6035967e+00, ...,\n",
              "           3.4189832e-01,  5.2879758e-02, -1.5401094e-01]],\n",
              " \n",
              "        [[ 6.1017573e-02, -3.5161620e-01, -8.4891450e-01, ...,\n",
              "          -4.8554951e-01,  4.2703050e-01,  6.3828987e-01],\n",
              "         [ 6.6376424e-01,  1.8235948e-04, -7.9079014e-01, ...,\n",
              "           3.0687013e-01,  7.5843704e-01,  7.3240072e-01],\n",
              "         [ 1.4494693e+00,  1.1265039e+00,  1.7709133e-01, ...,\n",
              "           2.3471422e-01,  3.4929475e-01,  4.3709761e-01],\n",
              "         ...,\n",
              "         [ 3.2339686e-01,  1.7575872e-01,  8.7672389e-01, ...,\n",
              "           9.8904020e-01, -2.7050883e-01, -3.0809492e-01],\n",
              "         [ 4.0404183e-01,  5.1364976e-01,  7.2748232e-01, ...,\n",
              "           9.4942135e-01, -1.0214945e-02, -3.4644333e-01],\n",
              "         [-9.1295522e-03, -8.7016240e-02,  7.3032010e-01, ...,\n",
              "           8.5439926e-01, -1.3661274e-01, -4.7493592e-01]]], dtype=float32)>,\n",
              " <tf.Tensor: shape=(2, 128, 768), dtype=float32, numpy=\n",
              " array([[[-0.09403478, -0.0598767 , -0.0117164 , ..., -0.22167523,\n",
              "          -0.07650171,  0.5765818 ],\n",
              "         [ 0.7748054 ,  0.15188155,  1.0920016 , ..., -0.1956233 ,\n",
              "           0.15173191, -0.01071334],\n",
              "         [ 0.8519132 ,  0.25842696, -0.77035624, ...,  0.03356654,\n",
              "           0.34010494, -1.3918686 ],\n",
              "         ...,\n",
              "         [-0.19780524,  0.5281987 ,  0.90235156, ...,  0.27919728,\n",
              "          -0.28764293,  0.75109774],\n",
              "         [-0.3506738 ,  0.09291989,  1.338333  , ...,  0.22619557,\n",
              "          -0.03589104,  0.27343875],\n",
              "         [-0.9044524 , -0.20991148,  1.1977339 , ...,  0.35118508,\n",
              "          -0.21743806,  0.01482184]],\n",
              " \n",
              "        [[-0.07011101, -0.02392474, -0.6192439 , ..., -0.14541942,\n",
              "           0.34049332,  0.41224715],\n",
              "         [ 0.59261554,  0.19015925, -0.3739971 , ...,  0.37239558,\n",
              "           0.39152873,  0.42580396],\n",
              "         [ 1.1394775 ,  0.8439855 ,  0.38893914, ...,  0.20898223,\n",
              "           0.25176358,  0.26399997],\n",
              "         ...,\n",
              "         [ 0.43306106,  0.42012167,  1.09651   , ...,  1.1872357 ,\n",
              "          -0.16672137,  0.00856114],\n",
              "         [ 0.5754235 ,  0.86609405,  1.1184691 , ...,  1.0475057 ,\n",
              "           0.04264351, -0.01540327],\n",
              "         [-0.05487824, -0.07306813,  0.9012236 , ...,  0.80045545,\n",
              "          -0.16820705, -0.355074  ]]], dtype=float32)>,\n",
              " <tf.Tensor: shape=(2, 128, 768), dtype=float32, numpy=\n",
              " array([[[-0.2267131 ,  0.03110847,  0.32186082, ..., -0.2809027 ,\n",
              "          -0.75050944,  0.44557944],\n",
              "         [ 0.7712543 ,  0.11217789,  0.6603325 , ..., -0.09223761,\n",
              "           0.34821185, -0.36905104],\n",
              "         [ 0.5122407 , -0.1992902 , -0.84775066, ..., -0.28812107,\n",
              "           0.22383772, -1.2124615 ],\n",
              "         ...,\n",
              "         [ 0.12500508,  0.66634166,  0.98522055, ..., -0.0870944 ,\n",
              "          -0.5805489 ,  0.61272764],\n",
              "         [ 0.01400359,  0.10471296,  1.2684798 , ..., -0.01833243,\n",
              "          -0.35933298,  0.15463144],\n",
              "         [-0.8093852 , -0.36067948,  1.3501273 , ...,  0.58935946,\n",
              "          -0.5093249 , -0.0976696 ]],\n",
              " \n",
              "        [[-0.2153497 , -0.23962256, -0.30932444, ..., -0.25964868,\n",
              "           0.0969523 ,  0.4182661 ],\n",
              "         [ 0.5070063 , -0.01544864, -0.1051984 , ...,  0.3867535 ,\n",
              "           0.22041124, -0.10293312],\n",
              "         [ 1.0366054 ,  0.9171311 ,  0.2616411 , ...,  0.3318207 ,\n",
              "           0.45596996,  0.12697828],\n",
              "         ...,\n",
              "         [ 0.16190721,  0.7627005 ,  1.2737675 , ...,  0.5726    ,\n",
              "          -0.05929621,  0.26224014],\n",
              "         [ 0.46124572,  1.1673867 ,  0.95947796, ...,  0.46033108,\n",
              "           0.13521367,  0.45136034],\n",
              "         [-0.24183902,  0.1735291 ,  0.8415674 , ...,  0.24766989,\n",
              "          -0.14810228,  0.06557376]]], dtype=float32)>,\n",
              " <tf.Tensor: shape=(2, 128, 768), dtype=float32, numpy=\n",
              " array([[[-2.1952044e-02,  2.1303616e-01,  3.1135860e-01, ...,\n",
              "          -2.3918019e-01, -2.7870917e-01,  2.0408386e-01],\n",
              "         [ 8.3098286e-01,  1.9077928e-01,  7.1134639e-01, ...,\n",
              "          -3.0024433e-01,  3.1152454e-01, -2.5934041e-01],\n",
              "         [ 3.7308949e-01, -4.2212632e-01, -6.6690969e-01, ...,\n",
              "          -4.5297667e-01,  3.2045212e-01, -2.9988658e-01],\n",
              "         ...,\n",
              "         [ 3.3166340e-01,  7.1835935e-01,  8.9961201e-01, ...,\n",
              "          -3.4914562e-01, -2.9987144e-01,  5.2389169e-01],\n",
              "         [ 2.3853272e-01,  2.0484495e-01,  1.1306416e+00, ...,\n",
              "          -1.5113099e-01, -1.3781200e-01,  7.6998755e-02],\n",
              "         [-3.8412222e-01, -3.8158569e-01,  1.3397293e+00, ...,\n",
              "           5.7755393e-01, -1.5540051e-01, -2.9294592e-01]],\n",
              " \n",
              "        [[ 1.4363067e-01,  1.6980152e-01,  4.5118902e-02, ...,\n",
              "          -6.2166743e-02, -1.5753271e-02,  2.8787002e-01],\n",
              "         [ 5.8475977e-01,  2.6993260e-01, -2.8520894e-01, ...,\n",
              "           3.3893263e-01,  1.1777163e-01,  3.6985792e-02],\n",
              "         [ 1.2525787e+00,  1.2556443e+00,  3.8754299e-01, ...,\n",
              "           1.7275742e-01,  4.9666232e-01,  6.1378098e-01],\n",
              "         ...,\n",
              "         [ 1.9548725e-01,  4.4081888e-01,  1.0389358e+00, ...,\n",
              "           1.4527056e-01, -2.7744001e-01,  1.9032106e-01],\n",
              "         [ 4.4816497e-01,  7.6447695e-01,  6.9800556e-01, ...,\n",
              "          -8.3524175e-04, -7.9644620e-02,  4.9335849e-01],\n",
              "         [-2.3397961e-01, -2.0333531e-01,  3.4824908e-01, ...,\n",
              "          -6.4341120e-02, -3.2087523e-01,  2.2334352e-02]]], dtype=float32)>,\n",
              " <tf.Tensor: shape=(2, 128, 768), dtype=float32, numpy=\n",
              " array([[[ 0.07292038,  0.08567842,  0.14476822, ..., -0.09677143,\n",
              "           0.08722145,  0.07711081],\n",
              "         [ 0.17839344, -0.19006258,  0.5034949 , ..., -0.0586981 ,\n",
              "           0.32717144, -0.15578583],\n",
              "         [ 0.18701449, -0.43388814, -0.48875296, ..., -0.15502766,\n",
              "           0.00145172, -0.2447103 ],\n",
              "         ...,\n",
              "         [ 0.12083013,  0.12884311,  0.4645362 , ...,  0.07375546,\n",
              "           0.17441897,  0.16522236],\n",
              "         [ 0.07967884, -0.01190644,  0.5022541 , ...,  0.13777748,\n",
              "           0.210022  ,  0.00624548],\n",
              "         [-0.07212698, -0.28303394,  0.5903344 , ...,  0.4755187 ,\n",
              "           0.1666846 , -0.08920381]],\n",
              " \n",
              "        [[-0.07900536,  0.36335137, -0.21101594, ..., -0.171837  ,\n",
              "           0.16299717,  0.6724262 ],\n",
              "         [ 0.27883533,  0.43716228, -0.35764885, ..., -0.04463524,\n",
              "           0.38315073,  0.58879745],\n",
              "         [ 1.2037673 ,  1.072702  ,  0.48408717, ...,  0.24921033,\n",
              "           0.4073103 ,  0.4048179 ],\n",
              "         ...,\n",
              "         [ 0.08630094,  0.19353813,  0.47540012, ...,  0.18880174,\n",
              "          -0.06474142,  0.31318557],\n",
              "         [ 0.1588704 ,  0.2857267 ,  0.37340763, ...,  0.09309127,\n",
              "          -0.0496955 ,  0.387611  ],\n",
              "         [-0.08079785, -0.09572835,  0.26809838, ...,  0.13979656,\n",
              "          -0.06315874,  0.272883  ]]], dtype=float32)>]"
            ]
          },
          "metadata": {},
          "execution_count": 16
        }
      ]
    },
    {
      "cell_type": "markdown",
      "source": [
        "Preprocessing data for the BERT Model\n",
        "\n"
      ],
      "metadata": {
        "id": "rbYExbphQ0FO"
      }
    },
    {
      "cell_type": "code",
      "source": [
        "import tensorflow as tf\n",
        "import tensorflow_hub as hub\n",
        "import tensorflow_text as text"
      ],
      "metadata": {
        "id": "H2zUkWgSQzyK"
      },
      "execution_count": null,
      "outputs": []
    },
    {
      "cell_type": "markdown",
      "source": [
        "Display first 5 data of the loaded dataset"
      ],
      "metadata": {
        "id": "41e8OtSQR6R_"
      }
    },
    {
      "cell_type": "code",
      "source": [
        "import pandas as pd\n",
        "\n",
        "df = pd.read_csv(\"train/Constraint_Train.csv\")\n",
        "print(df.shape)\n",
        "df.head(5)"
      ],
      "metadata": {
        "colab": {
          "base_uri": "https://localhost:8080/",
          "height": 223
        },
        "id": "GHKATLdhRpMX",
        "outputId": "159cd563-e6a9-4208-b0ba-23d6f04115af"
      },
      "execution_count": null,
      "outputs": [
        {
          "output_type": "stream",
          "name": "stdout",
          "text": [
            "(6420, 3)\n"
          ]
        },
        {
          "output_type": "execute_result",
          "data": {
            "text/html": [
              "\n",
              "  <div id=\"df-7d77c5e9-80a9-4792-a45f-33d66a14f579\">\n",
              "    <div class=\"colab-df-container\">\n",
              "      <div>\n",
              "<style scoped>\n",
              "    .dataframe tbody tr th:only-of-type {\n",
              "        vertical-align: middle;\n",
              "    }\n",
              "\n",
              "    .dataframe tbody tr th {\n",
              "        vertical-align: top;\n",
              "    }\n",
              "\n",
              "    .dataframe thead th {\n",
              "        text-align: right;\n",
              "    }\n",
              "</style>\n",
              "<table border=\"1\" class=\"dataframe\">\n",
              "  <thead>\n",
              "    <tr style=\"text-align: right;\">\n",
              "      <th></th>\n",
              "      <th>id</th>\n",
              "      <th>tweet</th>\n",
              "      <th>label</th>\n",
              "    </tr>\n",
              "  </thead>\n",
              "  <tbody>\n",
              "    <tr>\n",
              "      <th>0</th>\n",
              "      <td>1</td>\n",
              "      <td>The CDC currently reports 99031 deaths. In gen...</td>\n",
              "      <td>real</td>\n",
              "    </tr>\n",
              "    <tr>\n",
              "      <th>1</th>\n",
              "      <td>2</td>\n",
              "      <td>States reported 1121 deaths a small rise from ...</td>\n",
              "      <td>real</td>\n",
              "    </tr>\n",
              "    <tr>\n",
              "      <th>2</th>\n",
              "      <td>3</td>\n",
              "      <td>Politically Correct Woman (Almost) Uses Pandem...</td>\n",
              "      <td>fake</td>\n",
              "    </tr>\n",
              "    <tr>\n",
              "      <th>3</th>\n",
              "      <td>4</td>\n",
              "      <td>#IndiaFightsCorona: We have 1524 #COVID testin...</td>\n",
              "      <td>real</td>\n",
              "    </tr>\n",
              "    <tr>\n",
              "      <th>4</th>\n",
              "      <td>5</td>\n",
              "      <td>Populous states can generate large case counts...</td>\n",
              "      <td>real</td>\n",
              "    </tr>\n",
              "  </tbody>\n",
              "</table>\n",
              "</div>\n",
              "      <button class=\"colab-df-convert\" onclick=\"convertToInteractive('df-7d77c5e9-80a9-4792-a45f-33d66a14f579')\"\n",
              "              title=\"Convert this dataframe to an interactive table.\"\n",
              "              style=\"display:none;\">\n",
              "        \n",
              "  <svg xmlns=\"http://www.w3.org/2000/svg\" height=\"24px\"viewBox=\"0 0 24 24\"\n",
              "       width=\"24px\">\n",
              "    <path d=\"M0 0h24v24H0V0z\" fill=\"none\"/>\n",
              "    <path d=\"M18.56 5.44l.94 2.06.94-2.06 2.06-.94-2.06-.94-.94-2.06-.94 2.06-2.06.94zm-11 1L8.5 8.5l.94-2.06 2.06-.94-2.06-.94L8.5 2.5l-.94 2.06-2.06.94zm10 10l.94 2.06.94-2.06 2.06-.94-2.06-.94-.94-2.06-.94 2.06-2.06.94z\"/><path d=\"M17.41 7.96l-1.37-1.37c-.4-.4-.92-.59-1.43-.59-.52 0-1.04.2-1.43.59L10.3 9.45l-7.72 7.72c-.78.78-.78 2.05 0 2.83L4 21.41c.39.39.9.59 1.41.59.51 0 1.02-.2 1.41-.59l7.78-7.78 2.81-2.81c.8-.78.8-2.07 0-2.86zM5.41 20L4 18.59l7.72-7.72 1.47 1.35L5.41 20z\"/>\n",
              "  </svg>\n",
              "      </button>\n",
              "      \n",
              "  <style>\n",
              "    .colab-df-container {\n",
              "      display:flex;\n",
              "      flex-wrap:wrap;\n",
              "      gap: 12px;\n",
              "    }\n",
              "\n",
              "    .colab-df-convert {\n",
              "      background-color: #E8F0FE;\n",
              "      border: none;\n",
              "      border-radius: 50%;\n",
              "      cursor: pointer;\n",
              "      display: none;\n",
              "      fill: #1967D2;\n",
              "      height: 32px;\n",
              "      padding: 0 0 0 0;\n",
              "      width: 32px;\n",
              "    }\n",
              "\n",
              "    .colab-df-convert:hover {\n",
              "      background-color: #E2EBFA;\n",
              "      box-shadow: 0px 1px 2px rgba(60, 64, 67, 0.3), 0px 1px 3px 1px rgba(60, 64, 67, 0.15);\n",
              "      fill: #174EA6;\n",
              "    }\n",
              "\n",
              "    [theme=dark] .colab-df-convert {\n",
              "      background-color: #3B4455;\n",
              "      fill: #D2E3FC;\n",
              "    }\n",
              "\n",
              "    [theme=dark] .colab-df-convert:hover {\n",
              "      background-color: #434B5C;\n",
              "      box-shadow: 0px 1px 3px 1px rgba(0, 0, 0, 0.15);\n",
              "      filter: drop-shadow(0px 1px 2px rgba(0, 0, 0, 0.3));\n",
              "      fill: #FFFFFF;\n",
              "    }\n",
              "  </style>\n",
              "\n",
              "      <script>\n",
              "        const buttonEl =\n",
              "          document.querySelector('#df-7d77c5e9-80a9-4792-a45f-33d66a14f579 button.colab-df-convert');\n",
              "        buttonEl.style.display =\n",
              "          google.colab.kernel.accessAllowed ? 'block' : 'none';\n",
              "\n",
              "        async function convertToInteractive(key) {\n",
              "          const element = document.querySelector('#df-7d77c5e9-80a9-4792-a45f-33d66a14f579');\n",
              "          const dataTable =\n",
              "            await google.colab.kernel.invokeFunction('convertToInteractive',\n",
              "                                                     [key], {});\n",
              "          if (!dataTable) return;\n",
              "\n",
              "          const docLinkHtml = 'Like what you see? Visit the ' +\n",
              "            '<a target=\"_blank\" href=https://colab.research.google.com/notebooks/data_table.ipynb>data table notebook</a>'\n",
              "            + ' to learn more about interactive tables.';\n",
              "          element.innerHTML = '';\n",
              "          dataTable['output_type'] = 'display_data';\n",
              "          await google.colab.output.renderOutput(dataTable, element);\n",
              "          const docLink = document.createElement('div');\n",
              "          docLink.innerHTML = docLinkHtml;\n",
              "          element.appendChild(docLink);\n",
              "        }\n",
              "      </script>\n",
              "    </div>\n",
              "  </div>\n",
              "  "
            ],
            "text/plain": [
              "   id                                              tweet label\n",
              "0   1  The CDC currently reports 99031 deaths. In gen...  real\n",
              "1   2  States reported 1121 deaths a small rise from ...  real\n",
              "2   3  Politically Correct Woman (Almost) Uses Pandem...  fake\n",
              "3   4  #IndiaFightsCorona: We have 1524 #COVID testin...  real\n",
              "4   5  Populous states can generate large case counts...  real"
            ]
          },
          "metadata": {},
          "execution_count": 18
        }
      ]
    },
    {
      "cell_type": "markdown",
      "source": [
        "Group the elements by the label of the news dataset"
      ],
      "metadata": {
        "id": "oQ6v_pCNSMt6"
      }
    },
    {
      "cell_type": "code",
      "source": [
        "df.groupby('label').describe()"
      ],
      "metadata": {
        "colab": {
          "base_uri": "https://localhost:8080/",
          "height": 174
        },
        "id": "qibEVEbXSFhx",
        "outputId": "8a20920b-4f0b-475a-8967-3ce191d32a69"
      },
      "execution_count": null,
      "outputs": [
        {
          "output_type": "execute_result",
          "data": {
            "text/html": [
              "\n",
              "  <div id=\"df-2ac4ebad-0645-49d8-8e4d-7ccf8637cf0e\">\n",
              "    <div class=\"colab-df-container\">\n",
              "      <div>\n",
              "<style scoped>\n",
              "    .dataframe tbody tr th:only-of-type {\n",
              "        vertical-align: middle;\n",
              "    }\n",
              "\n",
              "    .dataframe tbody tr th {\n",
              "        vertical-align: top;\n",
              "    }\n",
              "\n",
              "    .dataframe thead tr th {\n",
              "        text-align: left;\n",
              "    }\n",
              "\n",
              "    .dataframe thead tr:last-of-type th {\n",
              "        text-align: right;\n",
              "    }\n",
              "</style>\n",
              "<table border=\"1\" class=\"dataframe\">\n",
              "  <thead>\n",
              "    <tr>\n",
              "      <th></th>\n",
              "      <th colspan=\"8\" halign=\"left\">id</th>\n",
              "    </tr>\n",
              "    <tr>\n",
              "      <th></th>\n",
              "      <th>count</th>\n",
              "      <th>mean</th>\n",
              "      <th>std</th>\n",
              "      <th>min</th>\n",
              "      <th>25%</th>\n",
              "      <th>50%</th>\n",
              "      <th>75%</th>\n",
              "      <th>max</th>\n",
              "    </tr>\n",
              "    <tr>\n",
              "      <th>label</th>\n",
              "      <th></th>\n",
              "      <th></th>\n",
              "      <th></th>\n",
              "      <th></th>\n",
              "      <th></th>\n",
              "      <th></th>\n",
              "      <th></th>\n",
              "      <th></th>\n",
              "    </tr>\n",
              "  </thead>\n",
              "  <tbody>\n",
              "    <tr>\n",
              "      <th>fake</th>\n",
              "      <td>3060.0</td>\n",
              "      <td>3242.197712</td>\n",
              "      <td>1839.883860</td>\n",
              "      <td>3.0</td>\n",
              "      <td>1656.50</td>\n",
              "      <td>3234.5</td>\n",
              "      <td>4842.00</td>\n",
              "      <td>6419.0</td>\n",
              "    </tr>\n",
              "    <tr>\n",
              "      <th>real</th>\n",
              "      <td>3360.0</td>\n",
              "      <td>3181.632440</td>\n",
              "      <td>1865.502613</td>\n",
              "      <td>1.0</td>\n",
              "      <td>1561.75</td>\n",
              "      <td>3172.5</td>\n",
              "      <td>4788.25</td>\n",
              "      <td>6420.0</td>\n",
              "    </tr>\n",
              "  </tbody>\n",
              "</table>\n",
              "</div>\n",
              "      <button class=\"colab-df-convert\" onclick=\"convertToInteractive('df-2ac4ebad-0645-49d8-8e4d-7ccf8637cf0e')\"\n",
              "              title=\"Convert this dataframe to an interactive table.\"\n",
              "              style=\"display:none;\">\n",
              "        \n",
              "  <svg xmlns=\"http://www.w3.org/2000/svg\" height=\"24px\"viewBox=\"0 0 24 24\"\n",
              "       width=\"24px\">\n",
              "    <path d=\"M0 0h24v24H0V0z\" fill=\"none\"/>\n",
              "    <path d=\"M18.56 5.44l.94 2.06.94-2.06 2.06-.94-2.06-.94-.94-2.06-.94 2.06-2.06.94zm-11 1L8.5 8.5l.94-2.06 2.06-.94-2.06-.94L8.5 2.5l-.94 2.06-2.06.94zm10 10l.94 2.06.94-2.06 2.06-.94-2.06-.94-.94-2.06-.94 2.06-2.06.94z\"/><path d=\"M17.41 7.96l-1.37-1.37c-.4-.4-.92-.59-1.43-.59-.52 0-1.04.2-1.43.59L10.3 9.45l-7.72 7.72c-.78.78-.78 2.05 0 2.83L4 21.41c.39.39.9.59 1.41.59.51 0 1.02-.2 1.41-.59l7.78-7.78 2.81-2.81c.8-.78.8-2.07 0-2.86zM5.41 20L4 18.59l7.72-7.72 1.47 1.35L5.41 20z\"/>\n",
              "  </svg>\n",
              "      </button>\n",
              "      \n",
              "  <style>\n",
              "    .colab-df-container {\n",
              "      display:flex;\n",
              "      flex-wrap:wrap;\n",
              "      gap: 12px;\n",
              "    }\n",
              "\n",
              "    .colab-df-convert {\n",
              "      background-color: #E8F0FE;\n",
              "      border: none;\n",
              "      border-radius: 50%;\n",
              "      cursor: pointer;\n",
              "      display: none;\n",
              "      fill: #1967D2;\n",
              "      height: 32px;\n",
              "      padding: 0 0 0 0;\n",
              "      width: 32px;\n",
              "    }\n",
              "\n",
              "    .colab-df-convert:hover {\n",
              "      background-color: #E2EBFA;\n",
              "      box-shadow: 0px 1px 2px rgba(60, 64, 67, 0.3), 0px 1px 3px 1px rgba(60, 64, 67, 0.15);\n",
              "      fill: #174EA6;\n",
              "    }\n",
              "\n",
              "    [theme=dark] .colab-df-convert {\n",
              "      background-color: #3B4455;\n",
              "      fill: #D2E3FC;\n",
              "    }\n",
              "\n",
              "    [theme=dark] .colab-df-convert:hover {\n",
              "      background-color: #434B5C;\n",
              "      box-shadow: 0px 1px 3px 1px rgba(0, 0, 0, 0.15);\n",
              "      filter: drop-shadow(0px 1px 2px rgba(0, 0, 0, 0.3));\n",
              "      fill: #FFFFFF;\n",
              "    }\n",
              "  </style>\n",
              "\n",
              "      <script>\n",
              "        const buttonEl =\n",
              "          document.querySelector('#df-2ac4ebad-0645-49d8-8e4d-7ccf8637cf0e button.colab-df-convert');\n",
              "        buttonEl.style.display =\n",
              "          google.colab.kernel.accessAllowed ? 'block' : 'none';\n",
              "\n",
              "        async function convertToInteractive(key) {\n",
              "          const element = document.querySelector('#df-2ac4ebad-0645-49d8-8e4d-7ccf8637cf0e');\n",
              "          const dataTable =\n",
              "            await google.colab.kernel.invokeFunction('convertToInteractive',\n",
              "                                                     [key], {});\n",
              "          if (!dataTable) return;\n",
              "\n",
              "          const docLinkHtml = 'Like what you see? Visit the ' +\n",
              "            '<a target=\"_blank\" href=https://colab.research.google.com/notebooks/data_table.ipynb>data table notebook</a>'\n",
              "            + ' to learn more about interactive tables.';\n",
              "          element.innerHTML = '';\n",
              "          dataTable['output_type'] = 'display_data';\n",
              "          await google.colab.output.renderOutput(dataTable, element);\n",
              "          const docLink = document.createElement('div');\n",
              "          docLink.innerHTML = docLinkHtml;\n",
              "          element.appendChild(docLink);\n",
              "        }\n",
              "      </script>\n",
              "    </div>\n",
              "  </div>\n",
              "  "
            ],
            "text/plain": [
              "           id                                                                 \n",
              "        count         mean          std  min      25%     50%      75%     max\n",
              "label                                                                         \n",
              "fake   3060.0  3242.197712  1839.883860  3.0  1656.50  3234.5  4842.00  6419.0\n",
              "real   3360.0  3181.632440  1865.502613  1.0  1561.75  3172.5  4788.25  6420.0"
            ]
          },
          "metadata": {},
          "execution_count": 19
        }
      ]
    },
    {
      "cell_type": "markdown",
      "source": [
        "Assign label "
      ],
      "metadata": {
        "id": "knJc0BfgTf93"
      }
    },
    {
      "cell_type": "code",
      "source": [
        "def f(x):\n",
        "    return {\n",
        "        'fake': 0,\n",
        "        'real': 1,\n",
        "    }[x]\n",
        "\n",
        "df['label_rep']=df['label'].apply(lambda x: f(x))\n",
        "df.sample(10)"
      ],
      "metadata": {
        "colab": {
          "base_uri": "https://localhost:8080/",
          "height": 363
        },
        "id": "pygbcwnTSYFM",
        "outputId": "ba1a08a4-cfc7-4e7e-caa2-eac89e587204"
      },
      "execution_count": null,
      "outputs": [
        {
          "output_type": "execute_result",
          "data": {
            "text/html": [
              "\n",
              "  <div id=\"df-e40c6ef6-bd73-47a3-9890-a28788c56ad2\">\n",
              "    <div class=\"colab-df-container\">\n",
              "      <div>\n",
              "<style scoped>\n",
              "    .dataframe tbody tr th:only-of-type {\n",
              "        vertical-align: middle;\n",
              "    }\n",
              "\n",
              "    .dataframe tbody tr th {\n",
              "        vertical-align: top;\n",
              "    }\n",
              "\n",
              "    .dataframe thead th {\n",
              "        text-align: right;\n",
              "    }\n",
              "</style>\n",
              "<table border=\"1\" class=\"dataframe\">\n",
              "  <thead>\n",
              "    <tr style=\"text-align: right;\">\n",
              "      <th></th>\n",
              "      <th>id</th>\n",
              "      <th>tweet</th>\n",
              "      <th>label</th>\n",
              "      <th>label_rep</th>\n",
              "    </tr>\n",
              "  </thead>\n",
              "  <tbody>\n",
              "    <tr>\n",
              "      <th>5710</th>\n",
              "      <td>5711</td>\n",
              "      <td>Temperature, humidity could affect transmissio...</td>\n",
              "      <td>fake</td>\n",
              "      <td>0</td>\n",
              "    </tr>\n",
              "    <tr>\n",
              "      <th>4997</th>\n",
              "      <td>4998</td>\n",
              "      <td>Japanese Nobel laureate Tasuku Honjo who worke...</td>\n",
              "      <td>fake</td>\n",
              "      <td>0</td>\n",
              "    </tr>\n",
              "    <tr>\n",
              "      <th>4047</th>\n",
              "      <td>4048</td>\n",
              "      <td>I'm running a fever again. Been suffering from...</td>\n",
              "      <td>fake</td>\n",
              "      <td>0</td>\n",
              "    </tr>\n",
              "    <tr>\n",
              "      <th>2017</th>\n",
              "      <td>2018</td>\n",
              "      <td>Groups of pupils should only be sent home if t...</td>\n",
              "      <td>real</td>\n",
              "      <td>1</td>\n",
              "    </tr>\n",
              "    <tr>\n",
              "      <th>4536</th>\n",
              "      <td>4537</td>\n",
              "      <td>???The CDC may have to stop calling COVID-19 a...</td>\n",
              "      <td>fake</td>\n",
              "      <td>0</td>\n",
              "    </tr>\n",
              "    <tr>\n",
              "      <th>4139</th>\n",
              "      <td>4140</td>\n",
              "      <td>Says this poem about people staying home was w...</td>\n",
              "      <td>fake</td>\n",
              "      <td>0</td>\n",
              "    </tr>\n",
              "    <tr>\n",
              "      <th>6227</th>\n",
              "      <td>6228</td>\n",
              "      <td>A popular YouTube video is claiming coronaviru...</td>\n",
              "      <td>fake</td>\n",
              "      <td>0</td>\n",
              "    </tr>\n",
              "    <tr>\n",
              "      <th>4039</th>\n",
              "      <td>4040</td>\n",
              "      <td>Do you have questions about #COVID19? Find ans...</td>\n",
              "      <td>real</td>\n",
              "      <td>1</td>\n",
              "    </tr>\n",
              "    <tr>\n",
              "      <th>5181</th>\n",
              "      <td>5182</td>\n",
              "      <td>@ricci_sergienko All that stuff should be comi...</td>\n",
              "      <td>real</td>\n",
              "      <td>1</td>\n",
              "    </tr>\n",
              "    <tr>\n",
              "      <th>3184</th>\n",
              "      <td>3185</td>\n",
              "      <td>Russian president Vladimir Putin released 800 ...</td>\n",
              "      <td>fake</td>\n",
              "      <td>0</td>\n",
              "    </tr>\n",
              "  </tbody>\n",
              "</table>\n",
              "</div>\n",
              "      <button class=\"colab-df-convert\" onclick=\"convertToInteractive('df-e40c6ef6-bd73-47a3-9890-a28788c56ad2')\"\n",
              "              title=\"Convert this dataframe to an interactive table.\"\n",
              "              style=\"display:none;\">\n",
              "        \n",
              "  <svg xmlns=\"http://www.w3.org/2000/svg\" height=\"24px\"viewBox=\"0 0 24 24\"\n",
              "       width=\"24px\">\n",
              "    <path d=\"M0 0h24v24H0V0z\" fill=\"none\"/>\n",
              "    <path d=\"M18.56 5.44l.94 2.06.94-2.06 2.06-.94-2.06-.94-.94-2.06-.94 2.06-2.06.94zm-11 1L8.5 8.5l.94-2.06 2.06-.94-2.06-.94L8.5 2.5l-.94 2.06-2.06.94zm10 10l.94 2.06.94-2.06 2.06-.94-2.06-.94-.94-2.06-.94 2.06-2.06.94z\"/><path d=\"M17.41 7.96l-1.37-1.37c-.4-.4-.92-.59-1.43-.59-.52 0-1.04.2-1.43.59L10.3 9.45l-7.72 7.72c-.78.78-.78 2.05 0 2.83L4 21.41c.39.39.9.59 1.41.59.51 0 1.02-.2 1.41-.59l7.78-7.78 2.81-2.81c.8-.78.8-2.07 0-2.86zM5.41 20L4 18.59l7.72-7.72 1.47 1.35L5.41 20z\"/>\n",
              "  </svg>\n",
              "      </button>\n",
              "      \n",
              "  <style>\n",
              "    .colab-df-container {\n",
              "      display:flex;\n",
              "      flex-wrap:wrap;\n",
              "      gap: 12px;\n",
              "    }\n",
              "\n",
              "    .colab-df-convert {\n",
              "      background-color: #E8F0FE;\n",
              "      border: none;\n",
              "      border-radius: 50%;\n",
              "      cursor: pointer;\n",
              "      display: none;\n",
              "      fill: #1967D2;\n",
              "      height: 32px;\n",
              "      padding: 0 0 0 0;\n",
              "      width: 32px;\n",
              "    }\n",
              "\n",
              "    .colab-df-convert:hover {\n",
              "      background-color: #E2EBFA;\n",
              "      box-shadow: 0px 1px 2px rgba(60, 64, 67, 0.3), 0px 1px 3px 1px rgba(60, 64, 67, 0.15);\n",
              "      fill: #174EA6;\n",
              "    }\n",
              "\n",
              "    [theme=dark] .colab-df-convert {\n",
              "      background-color: #3B4455;\n",
              "      fill: #D2E3FC;\n",
              "    }\n",
              "\n",
              "    [theme=dark] .colab-df-convert:hover {\n",
              "      background-color: #434B5C;\n",
              "      box-shadow: 0px 1px 3px 1px rgba(0, 0, 0, 0.15);\n",
              "      filter: drop-shadow(0px 1px 2px rgba(0, 0, 0, 0.3));\n",
              "      fill: #FFFFFF;\n",
              "    }\n",
              "  </style>\n",
              "\n",
              "      <script>\n",
              "        const buttonEl =\n",
              "          document.querySelector('#df-e40c6ef6-bd73-47a3-9890-a28788c56ad2 button.colab-df-convert');\n",
              "        buttonEl.style.display =\n",
              "          google.colab.kernel.accessAllowed ? 'block' : 'none';\n",
              "\n",
              "        async function convertToInteractive(key) {\n",
              "          const element = document.querySelector('#df-e40c6ef6-bd73-47a3-9890-a28788c56ad2');\n",
              "          const dataTable =\n",
              "            await google.colab.kernel.invokeFunction('convertToInteractive',\n",
              "                                                     [key], {});\n",
              "          if (!dataTable) return;\n",
              "\n",
              "          const docLinkHtml = 'Like what you see? Visit the ' +\n",
              "            '<a target=\"_blank\" href=https://colab.research.google.com/notebooks/data_table.ipynb>data table notebook</a>'\n",
              "            + ' to learn more about interactive tables.';\n",
              "          element.innerHTML = '';\n",
              "          dataTable['output_type'] = 'display_data';\n",
              "          await google.colab.output.renderOutput(dataTable, element);\n",
              "          const docLink = document.createElement('div');\n",
              "          docLink.innerHTML = docLinkHtml;\n",
              "          element.appendChild(docLink);\n",
              "        }\n",
              "      </script>\n",
              "    </div>\n",
              "  </div>\n",
              "  "
            ],
            "text/plain": [
              "        id                                              tweet label  label_rep\n",
              "5710  5711  Temperature, humidity could affect transmissio...  fake          0\n",
              "4997  4998  Japanese Nobel laureate Tasuku Honjo who worke...  fake          0\n",
              "4047  4048  I'm running a fever again. Been suffering from...  fake          0\n",
              "2017  2018  Groups of pupils should only be sent home if t...  real          1\n",
              "4536  4537  ???The CDC may have to stop calling COVID-19 a...  fake          0\n",
              "4139  4140  Says this poem about people staying home was w...  fake          0\n",
              "6227  6228  A popular YouTube video is claiming coronaviru...  fake          0\n",
              "4039  4040  Do you have questions about #COVID19? Find ans...  real          1\n",
              "5181  5182  @ricci_sergienko All that stuff should be comi...  real          1\n",
              "3184  3185  Russian president Vladimir Putin released 800 ...  fake          0"
            ]
          },
          "metadata": {},
          "execution_count": 20
        }
      ]
    },
    {
      "cell_type": "markdown",
      "source": [
        "BERT APPROACH\n",
        "==============\n"
      ],
      "metadata": {
        "id": "oRVW_1iuUL6M"
      }
    },
    {
      "cell_type": "markdown",
      "source": [
        "Load Bert process in the code to train with the csv dataset file"
      ],
      "metadata": {
        "id": "cgyHAHz3UdLA"
      }
    },
    {
      "cell_type": "code",
      "source": [
        "bert_preprocess = hub.KerasLayer(\"https://tfhub.dev/tensorflow/bert_en_uncased_preprocess/3\")\n",
        "bert_encoder = hub.KerasLayer(\"https://tfhub.dev/tensorflow/bert_en_uncased_L-12_H-768_A-12/4\")"
      ],
      "metadata": {
        "id": "IjwX09TjTfaY"
      },
      "execution_count": null,
      "outputs": []
    },
    {
      "cell_type": "code",
      "source": [
        "X_train, y_train = df[\"tweet\"], df[\"label_rep\"]"
      ],
      "metadata": {
        "id": "-bb_nWR-Ul3g"
      },
      "execution_count": null,
      "outputs": []
    },
    {
      "cell_type": "code",
      "source": [
        "# Bert layers\n",
        "text_input = tf.keras.layers.Input(shape=(), dtype=tf.string, name='text')\n",
        "preprocessed_text = bert_preprocess(text_input)\n",
        "outputs = bert_encoder(preprocessed_text)\n",
        "\n",
        "# Neural network layers\n",
        "l = tf.keras.layers.Dropout(0.1, name=\"dropout\")(outputs['pooled_output'])\n",
        "l = tf.keras.layers.Dense(1, activation='sigmoid', name=\"output\")(l)\n",
        "\n",
        "# Use inputs and outputs to construct a final model\n",
        "model = tf.keras.Model(inputs=[text_input], outputs = [l])\n",
        "model.summary()"
      ],
      "metadata": {
        "colab": {
          "base_uri": "https://localhost:8080/"
        },
        "id": "YoeQY4rrUu4C",
        "outputId": "e3510f32-a076-4fdb-aa14-803a0c84e9c7"
      },
      "execution_count": null,
      "outputs": [
        {
          "output_type": "stream",
          "name": "stdout",
          "text": [
            "Model: \"model\"\n",
            "__________________________________________________________________________________________________\n",
            " Layer (type)                   Output Shape         Param #     Connected to                     \n",
            "==================================================================================================\n",
            " text (InputLayer)              [(None,)]            0           []                               \n",
            "                                                                                                  \n",
            " keras_layer_2 (KerasLayer)     {'input_type_ids':   0           ['text[0][0]']                   \n",
            "                                (None, 128),                                                      \n",
            "                                 'input_word_ids':                                                \n",
            "                                (None, 128),                                                      \n",
            "                                 'input_mask': (Non                                               \n",
            "                                e, 128)}                                                          \n",
            "                                                                                                  \n",
            " keras_layer_3 (KerasLayer)     {'encoder_outputs':  109482241   ['keras_layer_2[0][0]',          \n",
            "                                 [(None, 128, 768),               'keras_layer_2[0][1]',          \n",
            "                                 (None, 128, 768),                'keras_layer_2[0][2]']          \n",
            "                                 (None, 128, 768),                                                \n",
            "                                 (None, 128, 768),                                                \n",
            "                                 (None, 128, 768),                                                \n",
            "                                 (None, 128, 768),                                                \n",
            "                                 (None, 128, 768),                                                \n",
            "                                 (None, 128, 768),                                                \n",
            "                                 (None, 128, 768),                                                \n",
            "                                 (None, 128, 768),                                                \n",
            "                                 (None, 128, 768),                                                \n",
            "                                 (None, 128, 768)],                                               \n",
            "                                 'default': (None,                                                \n",
            "                                768),                                                             \n",
            "                                 'sequence_output':                                               \n",
            "                                 (None, 128, 768),                                                \n",
            "                                 'pooled_output': (                                               \n",
            "                                None, 768)}                                                       \n",
            "                                                                                                  \n",
            " dropout (Dropout)              (None, 768)          0           ['keras_layer_3[0][13]']         \n",
            "                                                                                                  \n",
            " output (Dense)                 (None, 1)            769         ['dropout[0][0]']                \n",
            "                                                                                                  \n",
            "==================================================================================================\n",
            "Total params: 109,483,010\n",
            "Trainable params: 769\n",
            "Non-trainable params: 109,482,241\n",
            "__________________________________________________________________________________________________\n"
          ]
        }
      ]
    },
    {
      "cell_type": "code",
      "source": [
        "METRICS = [\n",
        "      tf.keras.metrics.BinaryAccuracy(name='accuracy'),\n",
        "      tf.keras.metrics.Precision(name='precision'),\n",
        "      tf.keras.metrics.Recall(name='recall')\n",
        "]\n",
        "\n",
        "model.compile(optimizer='adam',\n",
        "              loss='binary_crossentropy',\n",
        "              metrics=METRICS)\n",
        "\n",
        "model.fit(X_train, y_train, epochs=10)"
      ],
      "metadata": {
        "colab": {
          "base_uri": "https://localhost:8080/"
        },
        "id": "VdlTxRL_UyIC",
        "outputId": "af9237db-1ee1-4f10-f864-97970448ecf2"
      },
      "execution_count": null,
      "outputs": [
        {
          "output_type": "stream",
          "name": "stdout",
          "text": [
            "Epoch 1/10\n",
            "201/201 [==============================] - 153s 695ms/step - loss: 0.5897 - accuracy: 0.6919 - precision: 0.6811 - recall: 0.7735\n",
            "Epoch 2/10\n",
            "201/201 [==============================] - 139s 691ms/step - loss: 0.4905 - accuracy: 0.7759 - precision: 0.7488 - recall: 0.8604\n",
            "Epoch 3/10\n",
            "201/201 [==============================] - 139s 690ms/step - loss: 0.4421 - accuracy: 0.8087 - precision: 0.7736 - recall: 0.8970\n",
            "Epoch 4/10\n",
            "201/201 [==============================] - 139s 690ms/step - loss: 0.4137 - accuracy: 0.8265 - precision: 0.7946 - recall: 0.9015\n",
            "Epoch 5/10\n",
            "201/201 [==============================] - 139s 690ms/step - loss: 0.3904 - accuracy: 0.8422 - precision: 0.8092 - recall: 0.9140\n",
            "Epoch 6/10\n",
            "201/201 [==============================] - 139s 689ms/step - loss: 0.3745 - accuracy: 0.8475 - precision: 0.8165 - recall: 0.9140\n",
            "Epoch 7/10\n",
            "201/201 [==============================] - 138s 689ms/step - loss: 0.3599 - accuracy: 0.8565 - precision: 0.8274 - recall: 0.9173\n",
            "Epoch 8/10\n",
            "201/201 [==============================] - 138s 689ms/step - loss: 0.3469 - accuracy: 0.8612 - precision: 0.8354 - recall: 0.9152\n",
            "Epoch 9/10\n",
            "201/201 [==============================] - 138s 687ms/step - loss: 0.3369 - accuracy: 0.8674 - precision: 0.8406 - recall: 0.9214\n",
            "Epoch 10/10\n",
            "201/201 [==============================] - 138s 687ms/step - loss: 0.3303 - accuracy: 0.8682 - precision: 0.8451 - recall: 0.9161\n"
          ]
        },
        {
          "output_type": "execute_result",
          "data": {
            "text/plain": [
              "<keras.callbacks.History at 0x7fa0f032dc10>"
            ]
          },
          "metadata": {},
          "execution_count": 24
        }
      ]
    },
    {
      "cell_type": "code",
      "source": [
        "df_t = pd.read_csv(\"val/Constraint_Val.csv\")\n",
        "print(df_t.shape)\n",
        "df_t.head(5)"
      ],
      "metadata": {
        "colab": {
          "base_uri": "https://localhost:8080/",
          "height": 223
        },
        "id": "4Fn1DQFAku1N",
        "outputId": "c5472f7b-b9b8-44ab-cad1-a00b70e8e76f"
      },
      "execution_count": null,
      "outputs": [
        {
          "output_type": "stream",
          "name": "stdout",
          "text": [
            "(2140, 3)\n"
          ]
        },
        {
          "output_type": "execute_result",
          "data": {
            "text/html": [
              "\n",
              "  <div id=\"df-66a0c9fb-4e6e-4d23-862e-c7bf3c8ccb32\">\n",
              "    <div class=\"colab-df-container\">\n",
              "      <div>\n",
              "<style scoped>\n",
              "    .dataframe tbody tr th:only-of-type {\n",
              "        vertical-align: middle;\n",
              "    }\n",
              "\n",
              "    .dataframe tbody tr th {\n",
              "        vertical-align: top;\n",
              "    }\n",
              "\n",
              "    .dataframe thead th {\n",
              "        text-align: right;\n",
              "    }\n",
              "</style>\n",
              "<table border=\"1\" class=\"dataframe\">\n",
              "  <thead>\n",
              "    <tr style=\"text-align: right;\">\n",
              "      <th></th>\n",
              "      <th>id</th>\n",
              "      <th>tweet</th>\n",
              "      <th>label</th>\n",
              "    </tr>\n",
              "  </thead>\n",
              "  <tbody>\n",
              "    <tr>\n",
              "      <th>0</th>\n",
              "      <td>1</td>\n",
              "      <td>Chinese converting to Islam after realising th...</td>\n",
              "      <td>fake</td>\n",
              "    </tr>\n",
              "    <tr>\n",
              "      <th>1</th>\n",
              "      <td>2</td>\n",
              "      <td>11 out of 13 people (from the Diamond Princess...</td>\n",
              "      <td>fake</td>\n",
              "    </tr>\n",
              "    <tr>\n",
              "      <th>2</th>\n",
              "      <td>3</td>\n",
              "      <td>COVID-19 Is Caused By A Bacterium, Not Virus A...</td>\n",
              "      <td>fake</td>\n",
              "    </tr>\n",
              "    <tr>\n",
              "      <th>3</th>\n",
              "      <td>4</td>\n",
              "      <td>Mike Pence in RNC speech praises Donald Trump’...</td>\n",
              "      <td>fake</td>\n",
              "    </tr>\n",
              "    <tr>\n",
              "      <th>4</th>\n",
              "      <td>5</td>\n",
              "      <td>6/10 Sky's @EdConwaySky explains the latest #C...</td>\n",
              "      <td>real</td>\n",
              "    </tr>\n",
              "  </tbody>\n",
              "</table>\n",
              "</div>\n",
              "      <button class=\"colab-df-convert\" onclick=\"convertToInteractive('df-66a0c9fb-4e6e-4d23-862e-c7bf3c8ccb32')\"\n",
              "              title=\"Convert this dataframe to an interactive table.\"\n",
              "              style=\"display:none;\">\n",
              "        \n",
              "  <svg xmlns=\"http://www.w3.org/2000/svg\" height=\"24px\"viewBox=\"0 0 24 24\"\n",
              "       width=\"24px\">\n",
              "    <path d=\"M0 0h24v24H0V0z\" fill=\"none\"/>\n",
              "    <path d=\"M18.56 5.44l.94 2.06.94-2.06 2.06-.94-2.06-.94-.94-2.06-.94 2.06-2.06.94zm-11 1L8.5 8.5l.94-2.06 2.06-.94-2.06-.94L8.5 2.5l-.94 2.06-2.06.94zm10 10l.94 2.06.94-2.06 2.06-.94-2.06-.94-.94-2.06-.94 2.06-2.06.94z\"/><path d=\"M17.41 7.96l-1.37-1.37c-.4-.4-.92-.59-1.43-.59-.52 0-1.04.2-1.43.59L10.3 9.45l-7.72 7.72c-.78.78-.78 2.05 0 2.83L4 21.41c.39.39.9.59 1.41.59.51 0 1.02-.2 1.41-.59l7.78-7.78 2.81-2.81c.8-.78.8-2.07 0-2.86zM5.41 20L4 18.59l7.72-7.72 1.47 1.35L5.41 20z\"/>\n",
              "  </svg>\n",
              "      </button>\n",
              "      \n",
              "  <style>\n",
              "    .colab-df-container {\n",
              "      display:flex;\n",
              "      flex-wrap:wrap;\n",
              "      gap: 12px;\n",
              "    }\n",
              "\n",
              "    .colab-df-convert {\n",
              "      background-color: #E8F0FE;\n",
              "      border: none;\n",
              "      border-radius: 50%;\n",
              "      cursor: pointer;\n",
              "      display: none;\n",
              "      fill: #1967D2;\n",
              "      height: 32px;\n",
              "      padding: 0 0 0 0;\n",
              "      width: 32px;\n",
              "    }\n",
              "\n",
              "    .colab-df-convert:hover {\n",
              "      background-color: #E2EBFA;\n",
              "      box-shadow: 0px 1px 2px rgba(60, 64, 67, 0.3), 0px 1px 3px 1px rgba(60, 64, 67, 0.15);\n",
              "      fill: #174EA6;\n",
              "    }\n",
              "\n",
              "    [theme=dark] .colab-df-convert {\n",
              "      background-color: #3B4455;\n",
              "      fill: #D2E3FC;\n",
              "    }\n",
              "\n",
              "    [theme=dark] .colab-df-convert:hover {\n",
              "      background-color: #434B5C;\n",
              "      box-shadow: 0px 1px 3px 1px rgba(0, 0, 0, 0.15);\n",
              "      filter: drop-shadow(0px 1px 2px rgba(0, 0, 0, 0.3));\n",
              "      fill: #FFFFFF;\n",
              "    }\n",
              "  </style>\n",
              "\n",
              "      <script>\n",
              "        const buttonEl =\n",
              "          document.querySelector('#df-66a0c9fb-4e6e-4d23-862e-c7bf3c8ccb32 button.colab-df-convert');\n",
              "        buttonEl.style.display =\n",
              "          google.colab.kernel.accessAllowed ? 'block' : 'none';\n",
              "\n",
              "        async function convertToInteractive(key) {\n",
              "          const element = document.querySelector('#df-66a0c9fb-4e6e-4d23-862e-c7bf3c8ccb32');\n",
              "          const dataTable =\n",
              "            await google.colab.kernel.invokeFunction('convertToInteractive',\n",
              "                                                     [key], {});\n",
              "          if (!dataTable) return;\n",
              "\n",
              "          const docLinkHtml = 'Like what you see? Visit the ' +\n",
              "            '<a target=\"_blank\" href=https://colab.research.google.com/notebooks/data_table.ipynb>data table notebook</a>'\n",
              "            + ' to learn more about interactive tables.';\n",
              "          element.innerHTML = '';\n",
              "          dataTable['output_type'] = 'display_data';\n",
              "          await google.colab.output.renderOutput(dataTable, element);\n",
              "          const docLink = document.createElement('div');\n",
              "          docLink.innerHTML = docLinkHtml;\n",
              "          element.appendChild(docLink);\n",
              "        }\n",
              "      </script>\n",
              "    </div>\n",
              "  </div>\n",
              "  "
            ],
            "text/plain": [
              "   id                                              tweet label\n",
              "0   1  Chinese converting to Islam after realising th...  fake\n",
              "1   2  11 out of 13 people (from the Diamond Princess...  fake\n",
              "2   3  COVID-19 Is Caused By A Bacterium, Not Virus A...  fake\n",
              "3   4  Mike Pence in RNC speech praises Donald Trump’...  fake\n",
              "4   5  6/10 Sky's @EdConwaySky explains the latest #C...  real"
            ]
          },
          "metadata": {},
          "execution_count": 27
        }
      ]
    },
    {
      "cell_type": "code",
      "source": [
        "df_t.groupby('label').describe()"
      ],
      "metadata": {
        "colab": {
          "base_uri": "https://localhost:8080/",
          "height": 174
        },
        "id": "1G5oAmUxk4eu",
        "outputId": "7d10e322-6174-49b1-88b2-6c77f9767577"
      },
      "execution_count": null,
      "outputs": [
        {
          "output_type": "execute_result",
          "data": {
            "text/html": [
              "\n",
              "  <div id=\"df-0527268e-15bb-498e-a8f6-4dd0f2890651\">\n",
              "    <div class=\"colab-df-container\">\n",
              "      <div>\n",
              "<style scoped>\n",
              "    .dataframe tbody tr th:only-of-type {\n",
              "        vertical-align: middle;\n",
              "    }\n",
              "\n",
              "    .dataframe tbody tr th {\n",
              "        vertical-align: top;\n",
              "    }\n",
              "\n",
              "    .dataframe thead tr th {\n",
              "        text-align: left;\n",
              "    }\n",
              "\n",
              "    .dataframe thead tr:last-of-type th {\n",
              "        text-align: right;\n",
              "    }\n",
              "</style>\n",
              "<table border=\"1\" class=\"dataframe\">\n",
              "  <thead>\n",
              "    <tr>\n",
              "      <th></th>\n",
              "      <th colspan=\"8\" halign=\"left\">id</th>\n",
              "    </tr>\n",
              "    <tr>\n",
              "      <th></th>\n",
              "      <th>count</th>\n",
              "      <th>mean</th>\n",
              "      <th>std</th>\n",
              "      <th>min</th>\n",
              "      <th>25%</th>\n",
              "      <th>50%</th>\n",
              "      <th>75%</th>\n",
              "      <th>max</th>\n",
              "    </tr>\n",
              "    <tr>\n",
              "      <th>label</th>\n",
              "      <th></th>\n",
              "      <th></th>\n",
              "      <th></th>\n",
              "      <th></th>\n",
              "      <th></th>\n",
              "      <th></th>\n",
              "      <th></th>\n",
              "      <th></th>\n",
              "    </tr>\n",
              "  </thead>\n",
              "  <tbody>\n",
              "    <tr>\n",
              "      <th>fake</th>\n",
              "      <td>1020.0</td>\n",
              "      <td>1087.805882</td>\n",
              "      <td>627.831667</td>\n",
              "      <td>1.0</td>\n",
              "      <td>540.00</td>\n",
              "      <td>1087.5</td>\n",
              "      <td>1637.50</td>\n",
              "      <td>2139.0</td>\n",
              "    </tr>\n",
              "    <tr>\n",
              "      <th>real</th>\n",
              "      <td>1120.0</td>\n",
              "      <td>1054.739286</td>\n",
              "      <td>608.584391</td>\n",
              "      <td>5.0</td>\n",
              "      <td>533.75</td>\n",
              "      <td>1060.5</td>\n",
              "      <td>1578.25</td>\n",
              "      <td>2140.0</td>\n",
              "    </tr>\n",
              "  </tbody>\n",
              "</table>\n",
              "</div>\n",
              "      <button class=\"colab-df-convert\" onclick=\"convertToInteractive('df-0527268e-15bb-498e-a8f6-4dd0f2890651')\"\n",
              "              title=\"Convert this dataframe to an interactive table.\"\n",
              "              style=\"display:none;\">\n",
              "        \n",
              "  <svg xmlns=\"http://www.w3.org/2000/svg\" height=\"24px\"viewBox=\"0 0 24 24\"\n",
              "       width=\"24px\">\n",
              "    <path d=\"M0 0h24v24H0V0z\" fill=\"none\"/>\n",
              "    <path d=\"M18.56 5.44l.94 2.06.94-2.06 2.06-.94-2.06-.94-.94-2.06-.94 2.06-2.06.94zm-11 1L8.5 8.5l.94-2.06 2.06-.94-2.06-.94L8.5 2.5l-.94 2.06-2.06.94zm10 10l.94 2.06.94-2.06 2.06-.94-2.06-.94-.94-2.06-.94 2.06-2.06.94z\"/><path d=\"M17.41 7.96l-1.37-1.37c-.4-.4-.92-.59-1.43-.59-.52 0-1.04.2-1.43.59L10.3 9.45l-7.72 7.72c-.78.78-.78 2.05 0 2.83L4 21.41c.39.39.9.59 1.41.59.51 0 1.02-.2 1.41-.59l7.78-7.78 2.81-2.81c.8-.78.8-2.07 0-2.86zM5.41 20L4 18.59l7.72-7.72 1.47 1.35L5.41 20z\"/>\n",
              "  </svg>\n",
              "      </button>\n",
              "      \n",
              "  <style>\n",
              "    .colab-df-container {\n",
              "      display:flex;\n",
              "      flex-wrap:wrap;\n",
              "      gap: 12px;\n",
              "    }\n",
              "\n",
              "    .colab-df-convert {\n",
              "      background-color: #E8F0FE;\n",
              "      border: none;\n",
              "      border-radius: 50%;\n",
              "      cursor: pointer;\n",
              "      display: none;\n",
              "      fill: #1967D2;\n",
              "      height: 32px;\n",
              "      padding: 0 0 0 0;\n",
              "      width: 32px;\n",
              "    }\n",
              "\n",
              "    .colab-df-convert:hover {\n",
              "      background-color: #E2EBFA;\n",
              "      box-shadow: 0px 1px 2px rgba(60, 64, 67, 0.3), 0px 1px 3px 1px rgba(60, 64, 67, 0.15);\n",
              "      fill: #174EA6;\n",
              "    }\n",
              "\n",
              "    [theme=dark] .colab-df-convert {\n",
              "      background-color: #3B4455;\n",
              "      fill: #D2E3FC;\n",
              "    }\n",
              "\n",
              "    [theme=dark] .colab-df-convert:hover {\n",
              "      background-color: #434B5C;\n",
              "      box-shadow: 0px 1px 3px 1px rgba(0, 0, 0, 0.15);\n",
              "      filter: drop-shadow(0px 1px 2px rgba(0, 0, 0, 0.3));\n",
              "      fill: #FFFFFF;\n",
              "    }\n",
              "  </style>\n",
              "\n",
              "      <script>\n",
              "        const buttonEl =\n",
              "          document.querySelector('#df-0527268e-15bb-498e-a8f6-4dd0f2890651 button.colab-df-convert');\n",
              "        buttonEl.style.display =\n",
              "          google.colab.kernel.accessAllowed ? 'block' : 'none';\n",
              "\n",
              "        async function convertToInteractive(key) {\n",
              "          const element = document.querySelector('#df-0527268e-15bb-498e-a8f6-4dd0f2890651');\n",
              "          const dataTable =\n",
              "            await google.colab.kernel.invokeFunction('convertToInteractive',\n",
              "                                                     [key], {});\n",
              "          if (!dataTable) return;\n",
              "\n",
              "          const docLinkHtml = 'Like what you see? Visit the ' +\n",
              "            '<a target=\"_blank\" href=https://colab.research.google.com/notebooks/data_table.ipynb>data table notebook</a>'\n",
              "            + ' to learn more about interactive tables.';\n",
              "          element.innerHTML = '';\n",
              "          dataTable['output_type'] = 'display_data';\n",
              "          await google.colab.output.renderOutput(dataTable, element);\n",
              "          const docLink = document.createElement('div');\n",
              "          docLink.innerHTML = docLinkHtml;\n",
              "          element.appendChild(docLink);\n",
              "        }\n",
              "      </script>\n",
              "    </div>\n",
              "  </div>\n",
              "  "
            ],
            "text/plain": [
              "           id                                                               \n",
              "        count         mean         std  min     25%     50%      75%     max\n",
              "label                                                                       \n",
              "fake   1020.0  1087.805882  627.831667  1.0  540.00  1087.5  1637.50  2139.0\n",
              "real   1120.0  1054.739286  608.584391  5.0  533.75  1060.5  1578.25  2140.0"
            ]
          },
          "metadata": {},
          "execution_count": 28
        }
      ]
    },
    {
      "cell_type": "code",
      "source": [
        "df_t['label_rep']=df_t['label'].apply(lambda x: f(x))\n",
        "df_t.sample(10)"
      ],
      "metadata": {
        "colab": {
          "base_uri": "https://localhost:8080/",
          "height": 363
        },
        "id": "FRYe1QEilTsK",
        "outputId": "b13b1ade-8691-4d9b-a57c-761ed479727d"
      },
      "execution_count": null,
      "outputs": [
        {
          "output_type": "execute_result",
          "data": {
            "text/html": [
              "\n",
              "  <div id=\"df-595ec142-b060-41bf-8ac5-2a2c6b7d7215\">\n",
              "    <div class=\"colab-df-container\">\n",
              "      <div>\n",
              "<style scoped>\n",
              "    .dataframe tbody tr th:only-of-type {\n",
              "        vertical-align: middle;\n",
              "    }\n",
              "\n",
              "    .dataframe tbody tr th {\n",
              "        vertical-align: top;\n",
              "    }\n",
              "\n",
              "    .dataframe thead th {\n",
              "        text-align: right;\n",
              "    }\n",
              "</style>\n",
              "<table border=\"1\" class=\"dataframe\">\n",
              "  <thead>\n",
              "    <tr style=\"text-align: right;\">\n",
              "      <th></th>\n",
              "      <th>id</th>\n",
              "      <th>tweet</th>\n",
              "      <th>label</th>\n",
              "      <th>label_rep</th>\n",
              "    </tr>\n",
              "  </thead>\n",
              "  <tbody>\n",
              "    <tr>\n",
              "      <th>1471</th>\n",
              "      <td>1472</td>\n",
              "      <td>A doctor died in Colombia after curing 6 patie...</td>\n",
              "      <td>fake</td>\n",
              "      <td>0</td>\n",
              "    </tr>\n",
              "    <tr>\n",
              "      <th>1680</th>\n",
              "      <td>1681</td>\n",
              "      <td>The Duchess of Cambridge has praised mothers o...</td>\n",
              "      <td>real</td>\n",
              "      <td>1</td>\n",
              "    </tr>\n",
              "    <tr>\n",
              "      <th>270</th>\n",
              "      <td>271</td>\n",
              "      <td>“Nearly half of (Missouri) counties have not r...</td>\n",
              "      <td>fake</td>\n",
              "      <td>0</td>\n",
              "    </tr>\n",
              "    <tr>\n",
              "      <th>249</th>\n",
              "      <td>250</td>\n",
              "      <td>Indian's Ruling party BJP-run state Manipur is...</td>\n",
              "      <td>fake</td>\n",
              "      <td>0</td>\n",
              "    </tr>\n",
              "    <tr>\n",
              "      <th>1732</th>\n",
              "      <td>1733</td>\n",
              "      <td>Avoid the 3️⃣ Cs. There are certain places whe...</td>\n",
              "      <td>real</td>\n",
              "      <td>1</td>\n",
              "    </tr>\n",
              "    <tr>\n",
              "      <th>1641</th>\n",
              "      <td>1642</td>\n",
              "      <td>The China virus Covid-19 is a Soros/Globalists...</td>\n",
              "      <td>fake</td>\n",
              "      <td>0</td>\n",
              "    </tr>\n",
              "    <tr>\n",
              "      <th>1588</th>\n",
              "      <td>1589</td>\n",
              "      <td>Indian State of Kerala's government is paying ...</td>\n",
              "      <td>fake</td>\n",
              "      <td>0</td>\n",
              "    </tr>\n",
              "    <tr>\n",
              "      <th>543</th>\n",
              "      <td>544</td>\n",
              "      <td>RT @WHO: All over the 🌎🌍🌏 #healthworkers are f...</td>\n",
              "      <td>real</td>\n",
              "      <td>1</td>\n",
              "    </tr>\n",
              "    <tr>\n",
              "      <th>1982</th>\n",
              "      <td>1983</td>\n",
              "      <td>If a patient is diagnosed with COVID-19 and th...</td>\n",
              "      <td>fake</td>\n",
              "      <td>0</td>\n",
              "    </tr>\n",
              "    <tr>\n",
              "      <th>1188</th>\n",
              "      <td>1189</td>\n",
              "      <td>On the 5th Jan days after a cluster of unknown...</td>\n",
              "      <td>real</td>\n",
              "      <td>1</td>\n",
              "    </tr>\n",
              "  </tbody>\n",
              "</table>\n",
              "</div>\n",
              "      <button class=\"colab-df-convert\" onclick=\"convertToInteractive('df-595ec142-b060-41bf-8ac5-2a2c6b7d7215')\"\n",
              "              title=\"Convert this dataframe to an interactive table.\"\n",
              "              style=\"display:none;\">\n",
              "        \n",
              "  <svg xmlns=\"http://www.w3.org/2000/svg\" height=\"24px\"viewBox=\"0 0 24 24\"\n",
              "       width=\"24px\">\n",
              "    <path d=\"M0 0h24v24H0V0z\" fill=\"none\"/>\n",
              "    <path d=\"M18.56 5.44l.94 2.06.94-2.06 2.06-.94-2.06-.94-.94-2.06-.94 2.06-2.06.94zm-11 1L8.5 8.5l.94-2.06 2.06-.94-2.06-.94L8.5 2.5l-.94 2.06-2.06.94zm10 10l.94 2.06.94-2.06 2.06-.94-2.06-.94-.94-2.06-.94 2.06-2.06.94z\"/><path d=\"M17.41 7.96l-1.37-1.37c-.4-.4-.92-.59-1.43-.59-.52 0-1.04.2-1.43.59L10.3 9.45l-7.72 7.72c-.78.78-.78 2.05 0 2.83L4 21.41c.39.39.9.59 1.41.59.51 0 1.02-.2 1.41-.59l7.78-7.78 2.81-2.81c.8-.78.8-2.07 0-2.86zM5.41 20L4 18.59l7.72-7.72 1.47 1.35L5.41 20z\"/>\n",
              "  </svg>\n",
              "      </button>\n",
              "      \n",
              "  <style>\n",
              "    .colab-df-container {\n",
              "      display:flex;\n",
              "      flex-wrap:wrap;\n",
              "      gap: 12px;\n",
              "    }\n",
              "\n",
              "    .colab-df-convert {\n",
              "      background-color: #E8F0FE;\n",
              "      border: none;\n",
              "      border-radius: 50%;\n",
              "      cursor: pointer;\n",
              "      display: none;\n",
              "      fill: #1967D2;\n",
              "      height: 32px;\n",
              "      padding: 0 0 0 0;\n",
              "      width: 32px;\n",
              "    }\n",
              "\n",
              "    .colab-df-convert:hover {\n",
              "      background-color: #E2EBFA;\n",
              "      box-shadow: 0px 1px 2px rgba(60, 64, 67, 0.3), 0px 1px 3px 1px rgba(60, 64, 67, 0.15);\n",
              "      fill: #174EA6;\n",
              "    }\n",
              "\n",
              "    [theme=dark] .colab-df-convert {\n",
              "      background-color: #3B4455;\n",
              "      fill: #D2E3FC;\n",
              "    }\n",
              "\n",
              "    [theme=dark] .colab-df-convert:hover {\n",
              "      background-color: #434B5C;\n",
              "      box-shadow: 0px 1px 3px 1px rgba(0, 0, 0, 0.15);\n",
              "      filter: drop-shadow(0px 1px 2px rgba(0, 0, 0, 0.3));\n",
              "      fill: #FFFFFF;\n",
              "    }\n",
              "  </style>\n",
              "\n",
              "      <script>\n",
              "        const buttonEl =\n",
              "          document.querySelector('#df-595ec142-b060-41bf-8ac5-2a2c6b7d7215 button.colab-df-convert');\n",
              "        buttonEl.style.display =\n",
              "          google.colab.kernel.accessAllowed ? 'block' : 'none';\n",
              "\n",
              "        async function convertToInteractive(key) {\n",
              "          const element = document.querySelector('#df-595ec142-b060-41bf-8ac5-2a2c6b7d7215');\n",
              "          const dataTable =\n",
              "            await google.colab.kernel.invokeFunction('convertToInteractive',\n",
              "                                                     [key], {});\n",
              "          if (!dataTable) return;\n",
              "\n",
              "          const docLinkHtml = 'Like what you see? Visit the ' +\n",
              "            '<a target=\"_blank\" href=https://colab.research.google.com/notebooks/data_table.ipynb>data table notebook</a>'\n",
              "            + ' to learn more about interactive tables.';\n",
              "          element.innerHTML = '';\n",
              "          dataTable['output_type'] = 'display_data';\n",
              "          await google.colab.output.renderOutput(dataTable, element);\n",
              "          const docLink = document.createElement('div');\n",
              "          docLink.innerHTML = docLinkHtml;\n",
              "          element.appendChild(docLink);\n",
              "        }\n",
              "      </script>\n",
              "    </div>\n",
              "  </div>\n",
              "  "
            ],
            "text/plain": [
              "        id                                              tweet label  label_rep\n",
              "1471  1472  A doctor died in Colombia after curing 6 patie...  fake          0\n",
              "1680  1681  The Duchess of Cambridge has praised mothers o...  real          1\n",
              "270    271  “Nearly half of (Missouri) counties have not r...  fake          0\n",
              "249    250  Indian's Ruling party BJP-run state Manipur is...  fake          0\n",
              "1732  1733  Avoid the 3️⃣ Cs. There are certain places whe...  real          1\n",
              "1641  1642  The China virus Covid-19 is a Soros/Globalists...  fake          0\n",
              "1588  1589  Indian State of Kerala's government is paying ...  fake          0\n",
              "543    544  RT @WHO: All over the 🌎🌍🌏 #healthworkers are f...  real          1\n",
              "1982  1983  If a patient is diagnosed with COVID-19 and th...  fake          0\n",
              "1188  1189  On the 5th Jan days after a cluster of unknown...  real          1"
            ]
          },
          "metadata": {},
          "execution_count": 30
        }
      ]
    },
    {
      "cell_type": "code",
      "source": [
        "X_test, y_test = df_t[\"tweet\"], df_t[\"label_rep\"]"
      ],
      "metadata": {
        "id": "WToBmykEkqVL"
      },
      "execution_count": null,
      "outputs": []
    },
    {
      "cell_type": "code",
      "source": [
        "model.evaluate(X_test, y_test)"
      ],
      "metadata": {
        "colab": {
          "base_uri": "https://localhost:8080/"
        },
        "id": "2OKhQKSdkl0r",
        "outputId": "aa3ea3fa-f36c-4771-8d71-ccb7e18cce3f"
      },
      "execution_count": null,
      "outputs": [
        {
          "output_type": "stream",
          "name": "stdout",
          "text": [
            "67/67 [==============================] - 47s 689ms/step - loss: 0.3104 - accuracy: 0.8734 - precision: 0.8471 - recall: 0.9250\n"
          ]
        },
        {
          "output_type": "execute_result",
          "data": {
            "text/plain": [
              "[0.3103795051574707, 0.8733645081520081, 0.8470972776412964, 0.925000011920929]"
            ]
          },
          "metadata": {},
          "execution_count": 32
        }
      ]
    },
    {
      "cell_type": "code",
      "source": [
        "Predict_test = [\n",
        "    'A photo shows a 19-year-old vaccine for canine coronavirus that could be used to prevent the new coronavirus causing COVID-19.',\n",
        "    'ICUs are full forcing #COVID patients to wait “hours and hoursto admit to the emergency room. https://t.co/go6Sx5yuRx',\n",
        "    'The new coronavirus does not settle in the air but is grounded so it is not transmitted by air.',\n",
        "    'A WhatsApp forward has gone viral which claimed that a vaccine for coronavirus has been discovered. The viral forward also claims that the treatment for coronavirus is mentioned in India\\'s Intermediate Zoology book.',\n",
        "    '\"Sanitizer will do nothing for the coronavirus.\"'\n",
        "]\n",
        "\n",
        "model.predict(Predict_test)"
      ],
      "metadata": {
        "id": "1-FIaZlBafw3",
        "colab": {
          "base_uri": "https://localhost:8080/"
        },
        "outputId": "a1c5f208-4dad-4c19-9729-76f66a253e79"
      },
      "execution_count": null,
      "outputs": [
        {
          "output_type": "execute_result",
          "data": {
            "text/plain": [
              "array([[0.0479722 ],\n",
              "       [0.7977803 ],\n",
              "       [0.18739243],\n",
              "       [0.02610618],\n",
              "       [0.06492506]], dtype=float32)"
            ]
          },
          "metadata": {},
          "execution_count": 33
        }
      ]
    }
  ]
}